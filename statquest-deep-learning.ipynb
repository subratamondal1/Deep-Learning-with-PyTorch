{
 "cells": [
  {
   "cell_type": "code",
   "execution_count": 1,
   "id": "3a592815",
   "metadata": {
    "_cell_guid": "b1076dfc-b9ad-4769-8c92-a6c4dae69d19",
    "_uuid": "8f2839f25d086af736a60e9eeb907d3b93b6e0e5",
    "execution": {
     "iopub.execute_input": "2023-08-25T10:42:40.551842Z",
     "iopub.status.busy": "2023-08-25T10:42:40.551460Z",
     "iopub.status.idle": "2023-08-25T10:42:40.563027Z",
     "shell.execute_reply": "2023-08-25T10:42:40.561734Z"
    },
    "papermill": {
     "duration": 0.021976,
     "end_time": "2023-08-25T10:42:40.565725",
     "exception": false,
     "start_time": "2023-08-25T10:42:40.543749",
     "status": "completed"
    },
    "tags": []
   },
   "outputs": [],
   "source": [
    "# This Python 3 environment comes with many helpful analytics libraries installed\n",
    "# It is defined by the kaggle/python Docker image: https://github.com/kaggle/docker-python\n",
    "# For example, here's several helpful packages to load\n",
    "\n",
    "import numpy as np # linear algebra\n",
    "import pandas as pd # data processing, CSV file I/O (e.g. pd.read_csv)\n",
    "\n",
    "# Input data files are available in the read-only \"../input/\" directory\n",
    "# For example, running this (by clicking run or pressing Shift+Enter) will list all files under the input directory\n",
    "\n",
    "import os\n",
    "for dirname, _, filenames in os.walk('/kaggle/input'):\n",
    "    for filename in filenames:\n",
    "        print(os.path.join(dirname, filename))\n",
    "\n",
    "# You can write up to 20GB to the current directory (/kaggle/working/) that gets preserved as output when you create a version using \"Save & Run All\" \n",
    "# You can also write temporary files to /kaggle/temp/, but they won't be saved outside of the current session"
   ]
  },
  {
   "cell_type": "markdown",
   "id": "a81ee0a0",
   "metadata": {
    "papermill": {
     "duration": 0.005035,
     "end_time": "2023-08-25T10:42:40.576623",
     "exception": false,
     "start_time": "2023-08-25T10:42:40.571588",
     "status": "completed"
    },
    "tags": []
   },
   "source": [
    "# [The StatQuest Introduction to PyTorch](https://www.youtube.com/watch?v=FHdlXe1bSe4&list=PLblh5JKOoLUIxGDQs4LFFD--41Vzf-ME1&index=22)"
   ]
  },
  {
   "cell_type": "markdown",
   "id": "7966a004",
   "metadata": {
    "papermill": {
     "duration": 0.005292,
     "end_time": "2023-08-25T10:42:40.588159",
     "exception": false,
     "start_time": "2023-08-25T10:42:40.582867",
     "status": "completed"
    },
    "tags": []
   },
   "source": [
    "## Neural Network class\n",
    "With PyTorch, creating a Neural Network means creating a **new Class**.\n",
    "\n",
    "Create a class for our Neural Network, say BasicNN\n",
    "```python\n",
    "class BasicNN(nn.Module):\n",
    "    \n",
    "    def __init__(self):\n",
    "        super().__init__() # calls the initialization method of the parent class i.e Module\n",
    "        pass\n",
    "    \n",
    "    def forward(self):\n",
    "        pass\n",
    "```\n",
    "\n",
    "In the above neural network \"BasicNN\" we have two methods **`init`** and **forward`** :\n",
    "* **`init method` :** creates and initializes the **weights** and **biases**.\n",
    "* **`forward method` :** does a **forward pass** through the Neural Network \"BasicNN\" by taking an input value and calculating the output value with the **weights, biases** & **activation functions.**"
   ]
  },
  {
   "cell_type": "code",
   "execution_count": 2,
   "id": "d7f0f6f7",
   "metadata": {
    "execution": {
     "iopub.execute_input": "2023-08-25T10:42:40.601756Z",
     "iopub.status.busy": "2023-08-25T10:42:40.601369Z",
     "iopub.status.idle": "2023-08-25T10:42:44.987603Z",
     "shell.execute_reply": "2023-08-25T10:42:44.986390Z"
    },
    "papermill": {
     "duration": 4.395839,
     "end_time": "2023-08-25T10:42:44.989964",
     "exception": false,
     "start_time": "2023-08-25T10:42:40.594125",
     "status": "completed"
    },
    "tags": []
   },
   "outputs": [
    {
     "name": "stdout",
     "output_type": "stream",
     "text": [
      "input : tensor([0.0000, 0.1000, 0.2000, 0.3000, 0.4000, 0.5000, 0.6000, 0.7000, 0.8000,\n",
      "        0.9000, 1.0000])\n",
      "\n",
      "Finished!!! creating multiple PyTorch Parameter for each Weights & Bias for our NN. \n",
      "\n",
      "output : tensor([0.0000, 0.0000, 0.0000, 0.0000, 0.0000, 1.0100, 0.0000, 0.0000, 0.0000,\n",
      "        0.0000, 0.0000])\n"
     ]
    },
    {
     "data": {
      "image/png": "[encoded data removed]",
      "text/plain": [
       "<Figure size 640x480 with 1 Axes>"
      ]
     },
     "metadata": {},
     "output_type": "display_data"
    }
   ],
   "source": [
    "# Import Modules\n",
    "import torch # to create tensors and store values\n",
    "import torch.nn as nn # to make the weights & bias tensors part of the Neural Network\n",
    "import torch.nn.functional as F # gives us the Activation Functions\n",
    "from torch.optim import SGD # optimizer to fit the Neural Network to the Data\n",
    "\n",
    "# To draw nice looking graphs\n",
    "import matplotlib.pyplot as plt\n",
    "\n",
    "# The Neural Network (BasicNN) inherits from a PyTorch class called Module\n",
    "class BasicNN(nn.Module):\n",
    "    def __init__(self): # Initialization method for our new class i.e BasicNN\n",
    "        super().__init__() # calling the initialization method of the parent class i.e Module\n",
    "        \n",
    "        ### initialize the weights & biases in our Neural Network ###\n",
    "        # the first weight w00\n",
    "        ### making this weight a Parameter for the Neural Network, gives us the option to optimize it ###\n",
    "        self.w00 = nn.Parameter(data=torch.tensor(1.7), requires_grad=False)\n",
    "        self.b00 = nn.Parameter(data=torch.tensor(-0.85), requires_grad=False)\n",
    "        self.w01 = nn.Parameter(data=torch.tensor(-40.8), requires_grad=False)\n",
    "        \n",
    "        self.w10 = nn.Parameter(data=torch.tensor(12.6), requires_grad=False)\n",
    "        self.b10 = nn.Parameter(data=torch.tensor(0.0), requires_grad=False)\n",
    "        self.w11 = nn.Parameter(data=torch.tensor(2.70), requires_grad=False)\n",
    "        \n",
    "        self.final_bias = nn.Parameter(data=torch.tensor(-16.0), requires_grad=False)\n",
    "        \n",
    "        print(\"\\nFinished!!! creating multiple PyTorch Parameter for each Weights & Bias for our NN. \\n\")\n",
    "        \n",
    "    ### Now we need to connect those PyTorch Parameters with Input, Activation Function & Output\n",
    "    ### In other words, we need a way to \"make Forward Pass\" through Neural Network that uses the weights & bias\n",
    "    ### that we have just initialized\n",
    "    \n",
    "    def forward(self, input):\n",
    "        ### Now the first thing we want to do is connect the Input to the Activation Function\n",
    "        # (y = input * weight + b)\n",
    "        input_to_top_relu = input * self.w00 + self.b00 \n",
    "        # Pass the input_to_top_relu to the Activation Function\n",
    "        top_relu_output = F.relu(input_to_top_relu)\n",
    "        # Now scale the top_relu_output by the weight w01\n",
    "        scaled_top_relu_output = top_relu_output * self.w01\n",
    "        \n",
    "        ### Now do the same for the Bottom\n",
    "        # (y = input * weight + b)\n",
    "        input_to_bottom_relu = input * self.w10 + self.b10\n",
    "        # Pass the input_to_bottom_relu to the activation function\n",
    "        bottom_relu_output = F.relu(input_to_bottom_relu)\n",
    "        scaled_bottom_relu_output = bottom_relu_output * self.w11\n",
    "        \n",
    "        ### Now add the top and bottom scaled values to the final bias\n",
    "        input_to_final_relu = (scaled_top_relu_output + scaled_bottom_relu_output + self.final_bias)\n",
    "        ### Now pass the final dot product \"input_to_final_relu\" to the Activation Function to get the Final Output\n",
    "        # Final Output\n",
    "        output = F.relu(input_to_final_relu)\n",
    "        \n",
    "        return output\n",
    "\n",
    "# Make a quick test of our model\n",
    "input_doses = torch.linspace(start = 0, end = 1, steps = 11, dtype = torch.float)\n",
    "print(f\"input : {input_doses}\")\n",
    "\n",
    "### Now, the idea is to pass these input_doses through our Neural Network \"BasicNN\"\n",
    "model = BasicNN()\n",
    "\n",
    "# \"model\" calls the \"forward\" method by deafault\n",
    "output = model(input_doses)\n",
    "print(f\"output : {output}\")\n",
    "\n",
    "plt.plot(input_doses, output, color = \"g\", marker = \"o\")\n",
    "plt.xlabel(\"Doses\")\n",
    "plt.ylabel(\"Effectiveness (Predictions)\")\n",
    "plt.show()"
   ]
  },
  {
   "cell_type": "markdown",
   "id": "f2aaa946",
   "metadata": {
    "papermill": {
     "duration": 0.006176,
     "end_time": "2023-08-25T10:42:45.002344",
     "exception": false,
     "start_time": "2023-08-25T10:42:44.996168",
     "status": "completed"
    },
    "tags": []
   },
   "source": [
    "## Train Neural Network with Backpropagation\n",
    "Let's optimize the final bias with Backpropagation.\n",
    "\n",
    "```python\n",
    "class BasicNN_train(nn.Module):\n",
    "    \n",
    "    def __init__(self):\n",
    "        super().__init__() # calls the initialization method of the parent class i.e Module  \n",
    "        ...\n",
    "        # before\n",
    "        self.final_bias = nn.Parameter(data=torch.tensor(-16.0), requires_grad=False)\n",
    "        # after\n",
    "        self.final_bias = nn.Parameter(data=torch.tensor(0.0), requires_grad=True)\n",
    "    \n",
    "    def forward(self):\n",
    "        pass\n",
    "```\n",
    "\n",
    "* **`requires_grad=True` :** is what tells PyTorch that this parameter should be optimized."
   ]
  },
  {
   "cell_type": "code",
   "execution_count": 3,
   "id": "f9cbac26",
   "metadata": {
    "execution": {
     "iopub.execute_input": "2023-08-25T10:42:45.016431Z",
     "iopub.status.busy": "2023-08-25T10:42:45.015811Z",
     "iopub.status.idle": "2023-08-25T10:42:45.272790Z",
     "shell.execute_reply": "2023-08-25T10:42:45.271398Z"
    },
    "papermill": {
     "duration": 0.267061,
     "end_time": "2023-08-25T10:42:45.275378",
     "exception": false,
     "start_time": "2023-08-25T10:42:45.008317",
     "status": "completed"
    },
    "tags": []
   },
   "outputs": [
    {
     "name": "stdout",
     "output_type": "stream",
     "text": [
      "input : tensor([0.0000, 0.1000, 0.2000, 0.3000, 0.4000, 0.5000, 0.6000, 0.7000, 0.8000,\n",
      "        0.9000, 1.0000])\n",
      "\n",
      "Finished!!! creating multiple PyTorch Parameter for each Weights & Bias for our NN. \n",
      "\n",
      "output : tensor([ 0.0000,  3.4020,  6.8040, 10.2060, 13.6080, 17.0100, 13.4760,  9.9420,\n",
      "         6.4080,  2.8740,  0.0000], grad_fn=<ReluBackward0>)\n"
     ]
    },
    {
     "data": {
      "image/png": "[encoded data removed]",
      "text/plain": [
       "<Figure size 640x480 with 1 Axes>"
      ]
     },
     "metadata": {},
     "output_type": "display_data"
    }
   ],
   "source": [
    "# Import Modules\n",
    "import torch # to create tensors and store values\n",
    "import torch.nn as nn # to make the weights & bias tensors part of the Neural Network\n",
    "import torch.nn.functional as F # gives us the Activation Functions\n",
    "from torch.optim import SGD # optimizer to fit the Neural Network to the Data\n",
    "\n",
    "# To draw nice looking graphs\n",
    "import matplotlib.pyplot as plt\n",
    "\n",
    "# The Neural Network (BasicNN) inherits from a PyTorch class called Module\n",
    "class BasicNN_train(nn.Module):\n",
    "    def __init__(self): # initialization method for our new class i.e BasicNN\n",
    "        super().__init__() # calls the initialization method of the parent class i.e Module\n",
    "        \n",
    "        ### initialize the weights & biases in our Neural Network ###\n",
    "        # the first weight w00\n",
    "        ### making this weight a Parameter for the Neural Network, gives us the option to optimize it ###\n",
    "        self.w00 = nn.Parameter(data=torch.tensor(1.7), requires_grad=False)\n",
    "        self.b00 = nn.Parameter(data=torch.tensor(-0.85), requires_grad=False)\n",
    "        self.w01 = nn.Parameter(data=torch.tensor(-40.8), requires_grad=False)\n",
    "        \n",
    "        self.w10 = nn.Parameter(data=torch.tensor(12.6), requires_grad=False)\n",
    "        self.b10 = nn.Parameter(data=torch.tensor(0.0), requires_grad=False)\n",
    "        self.w11 = nn.Parameter(data=torch.tensor(2.70), requires_grad=False)\n",
    "        \n",
    "        # before\n",
    "        # self.final_bias = nn.Parameter(data=torch.tensor(-16.0), requires_grad=False)\n",
    "        # now\n",
    "        self.final_bias = nn.Parameter(data=torch.tensor(0.0), requires_grad=True)\n",
    "        \n",
    "        print(\"\\nFinished!!! creating multiple PyTorch Parameter for each Weights & Bias for our NN. \\n\")\n",
    "        \n",
    "    ### Now we need to connect those PyTorch Parameters with Input, Activation Function & Output\n",
    "    ### In other words, we need a way to \"make Forward Pass\" through Neural Network that uses the weights & bias\n",
    "    ### that we have just initialized\n",
    "    \n",
    "    def forward(self, input):\n",
    "        ### Now the first thing we want to do is connect the Input to the Activation Function\n",
    "        # (y = input * weight + b)\n",
    "        input_to_top_relu = input * self.w00 + self.b00 \n",
    "        # Pass the input_to_top_relu to the Activation Function\n",
    "        top_relu_output = F.relu(input_to_top_relu)\n",
    "        # Now scale the top_relu_output by the weight w01\n",
    "        scaled_top_relu_output = top_relu_output * self.w01\n",
    "        \n",
    "        ### Now do the same for the Bottom\n",
    "        # (y = input * weight + b)\n",
    "        input_to_bottom_relu = input * self.w10 + self.b10\n",
    "        # Pass the input_to_bottom_relu to the activation function\n",
    "        bottom_relu_output = F.relu(input_to_bottom_relu)\n",
    "        scaled_bottom_relu_output = bottom_relu_output * self.w11\n",
    "        \n",
    "        ### Now add the top and bottom scaled values to the final bias\n",
    "        input_to_final_relu = (scaled_top_relu_output + scaled_bottom_relu_output + self.final_bias)\n",
    "        ### Now pass the final dot product \"input_to_final_relu\" to the Activation Function to get the Final Output\n",
    "        # Final Output\n",
    "        output = F.relu(input_to_final_relu)\n",
    "        \n",
    "        return output\n",
    "\n",
    "# Make a quick test of our model\n",
    "input_doses = torch.linspace(start = 0, end = 1, steps = 11)\n",
    "print(f\"input : {input_doses}\")\n",
    "\n",
    "### Now, the idea is to pass these input_doses through our Neural Network \"BasicNN\"\n",
    "model = BasicNN_train()\n",
    "\n",
    "# \"model\" calls the \"forward\" method by deafault\n",
    "output = model(input_doses)\n",
    "print(f\"output : {output}\")\n",
    "\n",
    "### output.detach() to create a new tensor that only has the values because the \"final_bias\" now has a gradient\n",
    "plt.plot(input_doses, output.detach(), color = \"g\", marker = \"o\")\n",
    "plt.xlabel(\"Doses\")\n",
    "plt.ylabel(\"Effectiveness (Predictions)\")\n",
    "plt.show()"
   ]
  },
  {
   "cell_type": "markdown",
   "id": "15f7c9f4",
   "metadata": {
    "papermill": {
     "duration": 0.006516,
     "end_time": "2023-08-25T10:42:45.288564",
     "exception": false,
     "start_time": "2023-08-25T10:42:45.282048",
     "status": "completed"
    },
    "tags": []
   },
   "source": [
    "### Training the Neural Network\n",
    "**Aim:** our current `final_bias = 0.0`, we want to train the Neural Network \"BasicNN_train\" and find the optim value for the `final_bias`.\n",
    "```python\n",
    "optimizer = SGD(params=model.parameters(), lr = 0.1)\n",
    "```\n",
    "* **Note:** The optimizer object **SGD (Stochastic Gradient Descent)**, will optmize every **Parameter** that we set **`requires_grad=True`**."
   ]
  },
  {
   "cell_type": "code",
   "execution_count": 4,
   "id": "275fc562",
   "metadata": {
    "execution": {
     "iopub.execute_input": "2023-08-25T10:42:45.306204Z",
     "iopub.status.busy": "2023-08-25T10:42:45.305387Z",
     "iopub.status.idle": "2023-08-25T10:42:45.586992Z",
     "shell.execute_reply": "2023-08-25T10:42:45.585682Z"
    },
    "papermill": {
     "duration": 0.293005,
     "end_time": "2023-08-25T10:42:45.589441",
     "exception": false,
     "start_time": "2023-08-25T10:42:45.296436",
     "status": "completed"
    },
    "tags": []
   },
   "outputs": [
    {
     "name": "stdout",
     "output_type": "stream",
     "text": [
      "Final bias, before optimization : 0.0\n",
      "Epoch : 0, Final Bias : -3.202000141143799\n",
      "Epoch : 1, Final Bias : -5.7636003494262695\n",
      "Epoch : 2, Final Bias : -7.812880516052246\n",
      "Epoch : 3, Final Bias : -9.45230484008789\n",
      "Epoch : 4, Final Bias : -10.763843536376953\n",
      "Epoch : 5, Final Bias : -11.813075065612793\n",
      "Epoch : 6, Final Bias : -12.652460098266602\n",
      "Epoch : 7, Final Bias : -13.323967933654785\n",
      "Epoch : 8, Final Bias : -13.861174583435059\n",
      "Epoch : 9, Final Bias : -14.290939331054688\n",
      "Epoch : 10, Final Bias : -14.634751319885254\n",
      "Epoch : 11, Final Bias : -14.909801483154297\n",
      "Epoch : 12, Final Bias : -15.129840850830078\n",
      "Epoch : 13, Final Bias : -15.305872917175293\n",
      "Epoch : 14, Final Bias : -15.446698188781738\n",
      "Epoch : 15, Final Bias : -15.559358596801758\n",
      "Epoch : 16, Final Bias : -15.649486541748047\n",
      "Epoch : 17, Final Bias : -15.721589088439941\n",
      "Epoch : 18, Final Bias : -15.779271125793457\n",
      "Epoch : 19, Final Bias : -15.825416564941406\n",
      "Epoch : 20, Final Bias : -15.862333297729492\n",
      "Epoch : 21, Final Bias : -15.891866683959961\n",
      "Epoch : 22, Final Bias : -15.91549301147461\n",
      "Epoch : 23, Final Bias : -15.934394836425781\n",
      "Epoch : 24, Final Bias : -15.949516296386719\n",
      "Epoch : 25, Final Bias : -15.961612701416016\n",
      "Epoch : 26, Final Bias : -15.971290588378906\n",
      "Epoch : 27, Final Bias : -15.979032516479492\n",
      "Epoch : 28, Final Bias : -15.985225677490234\n",
      "Epoch : 29, Final Bias : -15.990180969238281\n",
      "Epoch : 30, Final Bias : -15.994144439697266\n",
      "Epoch : 31, Final Bias : -15.997315406799316\n",
      "Epoch : 32, Final Bias : -15.999852180480957\n",
      "Epoch : 33, Final Bias : -16.001882553100586\n",
      "Epoch: 34\n",
      "The Model has optimally fitted to the training data!!!\n",
      "After Optimization, Final Bias : -16.001882553100586, Final Loss : 6.58966600894928e-05\n"
     ]
    },
    {
     "data": {
      "image/png": "[encoded data removed]",
      "text/plain": [
       "<Figure size 640x480 with 1 Axes>"
      ]
     },
     "metadata": {},
     "output_type": "display_data"
    }
   ],
   "source": [
    "# Training Data\n",
    "inputs = torch.tensor([0., 0.5, 1.])\n",
    "labels = torch.tensor([0., 1., 0.])\n",
    "\n",
    "# The first thing we do is create an optimizer object, that will use SGD to optimize the \"final_bias\".\n",
    "optimizer = SGD(params=model.parameters(), lr = 0.1)\n",
    "print(f\"Final bias, before optimization : {model.final_bias.data}\")\n",
    "\n",
    "### The Loop that will Do Gradient Descent\n",
    "for epoch in range(100):\n",
    "    total_loss = 0\n",
    "    \n",
    "    ### Now the Nested For Loop, runs each training data point through the Model and calculates the \"total_loss\"\n",
    "    for iteration in range(len(inputs)):\n",
    "        inputs_i = inputs[iteration]\n",
    "        labels_i = labels[iteration]\n",
    "        \n",
    "        # Prediction\n",
    "        outputs_i = model(inputs_i)\n",
    "        loss = (labels_i - outputs_i) ** 2\n",
    "        \n",
    "        ### backpropagation (loss.backward)): to calculate the derivative of the loss function wrt the parameters we want to optimize\n",
    "        ### also it accumulates the derivates each time we go through the nested loop for each training data\n",
    "        loss.backward()\n",
    "        \n",
    "        ### as total_loss does not automatically accumulate, so\n",
    "        total_loss += float(loss)\n",
    "        \n",
    "    if (total_loss < 0.0001):\n",
    "        print(f\"Epoch: {epoch}\")\n",
    "        print(\"The Model has optimally fitted to the training data!!!\")\n",
    "        break\n",
    "    \n",
    "    ### if total_loss is not small, then we take a small step towards a better value for \"final_bias\" using optimizer.step()\n",
    "    ### just like loss.backward() has access to the derivatives in the model, similarly, optimizer.step() also has the access and\n",
    "    ### can use them to step in the correct direction\n",
    "    optimizer.step()\n",
    "    \n",
    "    ### Zero out or empty the derivatives that we are storing in the model\n",
    "    optimizer.zero_grad()\n",
    "    \n",
    "    print(f\"Epoch : {epoch}, Final Bias : {model.final_bias.data}\")\n",
    "    \n",
    "print(f\"After Optimization, Final Bias : {model.final_bias.data}, Final Loss : {total_loss}\")\n",
    "\n",
    "### Plot\n",
    "### output.detach() to create a new tensor that only has the values because the \"final_bias\" now has a gradient\n",
    "plt.plot(input_doses, output.detach(), color = \"g\", marker = \"o\")\n",
    "plt.xlabel(\"Doses\")\n",
    "plt.ylabel(\"Effectiveness (Predictions)\")\n",
    "plt.show()"
   ]
  },
  {
   "cell_type": "markdown",
   "id": "60f892ee",
   "metadata": {
    "papermill": {
     "duration": 0.008517,
     "end_time": "2023-08-25T10:42:45.605681",
     "exception": false,
     "start_time": "2023-08-25T10:42:45.597164",
     "status": "completed"
    },
    "tags": []
   },
   "source": [
    "# [StatQuest introduction to coding Neural Networks with PyTorch + Lightning](https://youtu.be/khMzi6xPbuM?si=yqO_23MltiPK9Ztb)"
   ]
  },
  {
   "cell_type": "code",
   "execution_count": 5,
   "id": "3636b634",
   "metadata": {
    "execution": {
     "iopub.execute_input": "2023-08-25T10:42:45.623160Z",
     "iopub.status.busy": "2023-08-25T10:42:45.622756Z",
     "iopub.status.idle": "2023-08-25T10:43:19.193036Z",
     "shell.execute_reply": "2023-08-25T10:43:19.191616Z"
    },
    "papermill": {
     "duration": 33.582827,
     "end_time": "2023-08-25T10:43:19.196110",
     "exception": false,
     "start_time": "2023-08-25T10:42:45.613283",
     "status": "completed"
    },
    "tags": []
   },
   "outputs": [
    {
     "name": "stderr",
     "output_type": "stream",
     "text": [
      "/opt/conda/lib/python3.10/site-packages/scipy/__init__.py:146: UserWarning: A NumPy version >=1.16.5 and <1.23.0 is required for this version of SciPy (detected version 1.23.5\n",
      "  warnings.warn(f\"A NumPy version >={np_minversion} and <{np_maxversion}\"\n",
      "/opt/conda/lib/python3.10/site-packages/tensorflow_io/python/ops/__init__.py:98: UserWarning: unable to load libtensorflow_io_plugins.so: unable to open file: libtensorflow_io_plugins.so, from paths: ['/opt/conda/lib/python3.10/site-packages/tensorflow_io/python/ops/libtensorflow_io_plugins.so']\n",
      "caused by: ['/opt/conda/lib/python3.10/site-packages/tensorflow_io/python/ops/libtensorflow_io_plugins.so: undefined symbol: _ZN3tsl6StatusC1EN10tensorflow5error4CodeESt17basic_string_viewIcSt11char_traitsIcEENS_14SourceLocationE']\n",
      "  warnings.warn(f\"unable to load libtensorflow_io_plugins.so: {e}\")\n",
      "/opt/conda/lib/python3.10/site-packages/tensorflow_io/python/ops/__init__.py:104: UserWarning: file system plugins are not loaded: unable to open file: libtensorflow_io.so, from paths: ['/opt/conda/lib/python3.10/site-packages/tensorflow_io/python/ops/libtensorflow_io.so']\n",
      "caused by: ['/opt/conda/lib/python3.10/site-packages/tensorflow_io/python/ops/libtensorflow_io.so: undefined symbol: _ZTVN10tensorflow13GcsFileSystemE']\n",
      "  warnings.warn(f\"file system plugins are not loaded: {e}\")\n"
     ]
    }
   ],
   "source": [
    "# Import Modules\n",
    "import torch\n",
    "import torch.nn as nn\n",
    "import torch.nn.functional as F\n",
    "from torch.optim import SGD\n",
    "\n",
    "# PyTorch Lightning Module\n",
    "! pip3 install lightning -q\n",
    "import lightning as L\n",
    "from torch.utils.data import TensorDataset,DataLoader\n",
    "\n",
    "# Plotting Module\n",
    "import matplotlib.pyplot as plt"
   ]
  },
  {
   "cell_type": "code",
   "execution_count": 6,
   "id": "a8971177",
   "metadata": {
    "execution": {
     "iopub.execute_input": "2023-08-25T10:43:19.213798Z",
     "iopub.status.busy": "2023-08-25T10:43:19.212918Z",
     "iopub.status.idle": "2023-08-25T10:43:19.467030Z",
     "shell.execute_reply": "2023-08-25T10:43:19.465563Z"
    },
    "papermill": {
     "duration": 0.26582,
     "end_time": "2023-08-25T10:43:19.469780",
     "exception": false,
     "start_time": "2023-08-25T10:43:19.203960",
     "status": "completed"
    },
    "tags": []
   },
   "outputs": [
    {
     "name": "stdout",
     "output_type": "stream",
     "text": [
      "input : tensor([0.0000, 0.1000, 0.2000, 0.3000, 0.4000, 0.5000, 0.6000, 0.7000, 0.8000,\n",
      "        0.9000, 1.0000])\n",
      "output : tensor([0.0000, 0.0000, 0.0000, 0.0000, 0.0000, 1.0100, 0.0000, 0.0000, 0.0000,\n",
      "        0.0000, 0.0000])\n"
     ]
    },
    {
     "data": {
      "image/png": "[encoded data removed]",
      "text/plain": [
       "<Figure size 640x480 with 1 Axes>"
      ]
     },
     "metadata": {},
     "output_type": "display_data"
    }
   ],
   "source": [
    "class BasicLightning(L.LightningModule):\n",
    "    def __init__(self): # Initialization method for our new class i.e \"BasicLightning\"\n",
    "        super().__init__() # Calling the initialization method of the parent class i.e LightningModule\n",
    "        \n",
    "        ### Set the Parameters (Weights & Biases)\n",
    "        self.w00 = nn.Parameter(data= torch.tensor(1.7), requires_grad=False)\n",
    "        self.b00 = nn.Parameter(data= torch.tensor(-0.85), requires_grad=False)\n",
    "        self.w01 = nn.Parameter(data= torch.tensor(-40.8), requires_grad=False)\n",
    "        \n",
    "        self.w10 = nn.Parameter(data= torch.tensor(12.6), requires_grad=False)\n",
    "        self.b10 = nn.Parameter(data= torch.tensor(0.0), requires_grad=False)\n",
    "        self.w11 = nn.Parameter(data= torch.tensor(2.7), requires_grad=False)\n",
    "        \n",
    "        self.final_bias = nn.Parameter(data= torch.tensor(-16.0), requires_grad=False)\n",
    "    \n",
    "    ### Now we need to connect those PyTorch Parameters with Input, Activation Function & Output\n",
    "    ### In other words, we need a way to \"make Forward Pass\" through Neural Network that uses the weights & bias\n",
    "    ### that we have just initialized\n",
    "    \n",
    "    def forward(self, inputs):\n",
    "        input_to_top_relu = inputs * self.w00 + self.b00\n",
    "        top_relu_output = F.relu(input_to_top_relu)\n",
    "        scaled_top_relu_output = top_relu_output * self.w01\n",
    "        \n",
    "        input_to_bottom_relu = inputs * self.w10 + self.b10\n",
    "        bottom_relu_output = F.relu(input_to_bottom_relu)\n",
    "        scaled_bottom_relu_output = bottom_relu_output * self.w11\n",
    "        \n",
    "        input_to_final_relu = (scaled_top_relu_output + scaled_bottom_relu_output + self.final_bias)\n",
    "        \n",
    "        output = F.relu(input_to_final_relu)\n",
    "        \n",
    "        return output\n",
    "\n",
    "# Make a quick test of our model\n",
    "input_doses = torch.linspace(start = 0, end = 1, steps = 11)\n",
    "print(f\"input : {input_doses}\")\n",
    "\n",
    "### Now, the idea is to pass these input_doses through our Neural Network \"BasicNN\"\n",
    "model = BasicLightning()\n",
    "\n",
    "# \"model\" calls the \"forward\" method by deafault\n",
    "output = model(input_doses)\n",
    "print(f\"output : {output}\")\n",
    "\n",
    "plt.plot(input_doses, output, color = \"g\", marker = \"o\")\n",
    "plt.xlabel(\"Doses\")\n",
    "plt.ylabel(\"Effectiveness (Predictions)\")\n",
    "plt.show()"
   ]
  },
  {
   "cell_type": "markdown",
   "id": "04efee6d",
   "metadata": {
    "papermill": {
     "duration": 0.008017,
     "end_time": "2023-08-25T10:43:19.485811",
     "exception": false,
     "start_time": "2023-08-25T10:43:19.477794",
     "status": "completed"
    },
    "tags": []
   },
   "source": [
    "## Train Neural Network with Backpropagation using PyTorch + Lightning\n",
    "Let's optimize or find the final bias with Backpropagation and also find the optimal `Learning Rate`.\n",
    "\n",
    "```python\n",
    "class BasicLightning_train(L.LightningModule):\n",
    "    \n",
    "    def __init__(self):\n",
    "        super().__init__() # calls the initialization method of the parent class i.e Module  \n",
    "        ...\n",
    "        # before\n",
    "        self.final_bias = nn.Parameter(data=torch.tensor(-16.0), requires_grad=False)\n",
    "        # after\n",
    "        self.final_bias = nn.Parameter(data=torch.tensor(0.0), requires_grad=True)\n",
    "        \n",
    "        # after\n",
    "        self.learning_rate = 0.01\n",
    "    \n",
    "    def forward(self):\n",
    "        pass\n",
    "```\n",
    "\n",
    "* **`requires_grad=True` :** is what tells PyTorch that this parameter should be optimized."
   ]
  },
  {
   "cell_type": "code",
   "execution_count": 7,
   "id": "aafc2437",
   "metadata": {
    "execution": {
     "iopub.execute_input": "2023-08-25T10:43:19.505288Z",
     "iopub.status.busy": "2023-08-25T10:43:19.504860Z",
     "iopub.status.idle": "2023-08-25T10:43:19.764766Z",
     "shell.execute_reply": "2023-08-25T10:43:19.763498Z"
    },
    "papermill": {
     "duration": 0.27294,
     "end_time": "2023-08-25T10:43:19.767265",
     "exception": false,
     "start_time": "2023-08-25T10:43:19.494325",
     "status": "completed"
    },
    "tags": []
   },
   "outputs": [
    {
     "name": "stdout",
     "output_type": "stream",
     "text": [
      "input : tensor([0.0000, 0.1000, 0.2000, 0.3000, 0.4000, 0.5000, 0.6000, 0.7000, 0.8000,\n",
      "        0.9000, 1.0000])\n",
      "output : tensor([ 0.0000,  3.4020,  6.8040, 10.2060, 13.6080, 17.0100, 13.4760,  9.9420,\n",
      "         6.4080,  2.8740,  0.0000], grad_fn=<ReluBackward0>)\n"
     ]
    },
    {
     "data": {
      "image/png": "[encoded data removed]",
      "text/plain": [
       "<Figure size 640x480 with 1 Axes>"
      ]
     },
     "metadata": {},
     "output_type": "display_data"
    }
   ],
   "source": [
    "class BasicLightning_train(L.LightningModule):\n",
    "    def __init__(self): # Initialization method for our new class i.e \"BasicLightning\"\n",
    "        super().__init__() # Calling the initialization method of the parent class i.e LightningModule\n",
    "        \n",
    "        ### Set the Parameters (Weights & Biases)\n",
    "        self.w00 = nn.Parameter(data= torch.tensor(1.7), requires_grad=False)\n",
    "        self.b00 = nn.Parameter(data= torch.tensor(-0.85), requires_grad=False)\n",
    "        self.w01 = nn.Parameter(data= torch.tensor(-40.8), requires_grad=False)\n",
    "        \n",
    "        self.w10 = nn.Parameter(data= torch.tensor(12.6), requires_grad=False)\n",
    "        self.b10 = nn.Parameter(data= torch.tensor(0.0), requires_grad=False)\n",
    "        self.w11 = nn.Parameter(data= torch.tensor(2.7), requires_grad=False)\n",
    "        \n",
    "        # before\n",
    "        # self.final_bias = nn.Parameter(data=torch.tensor(-16.0), requires_grad=False)\n",
    "        # after\n",
    "        self.final_bias = nn.Parameter(data=torch.tensor(0.0), requires_grad=True)\n",
    "        \n",
    "        # new\n",
    "        self.learning_rate = 0.01\n",
    "    \n",
    "    ### Now we need to connect those PyTorch Parameters with Input, Activation Function & Output\n",
    "    ### In other words, we need a way to \"make Forward Pass\" through Neural Network that uses the weights & bias\n",
    "    ### that we have just initialized\n",
    "    \n",
    "    def forward(self, inputs):\n",
    "        input_to_top_relu = inputs * self.w00 + self.b00\n",
    "        top_relu_output = F.relu(input_to_top_relu)\n",
    "        scaled_top_relu_output = top_relu_output * self.w01\n",
    "        \n",
    "        input_to_bottom_relu = inputs * self.w10 + self.b10\n",
    "        bottom_relu_output = F.relu(input_to_bottom_relu)\n",
    "        scaled_bottom_relu_output = bottom_relu_output * self.w11\n",
    "        \n",
    "        input_to_final_relu = (scaled_top_relu_output + scaled_bottom_relu_output + self.final_bias)\n",
    "        \n",
    "        output = F.relu(input_to_final_relu)\n",
    "        \n",
    "        return output\n",
    "\n",
    "# Make a quick test of our model (This is not the Training of Neural Network)\n",
    "input_doses = torch.linspace(start = 0, end = 1, steps = 11)\n",
    "print(f\"input : {input_doses}\")\n",
    "\n",
    "### Now, the idea is to pass these input_doses through our Neural Network \"BasicNN\"\n",
    "model = BasicLightning_train()\n",
    "\n",
    "# \"model\" calls the \"forward\" method by deafault\n",
    "output = model(input_doses)\n",
    "print(f\"output : {output}\")\n",
    "\n",
    "plt.plot(input_doses, output.detach(), color = \"g\", marker = \"o\")\n",
    "plt.xlabel(\"Doses\")\n",
    "plt.ylabel(\"Effectiveness (Predictions)\")\n",
    "plt.show()"
   ]
  },
  {
   "cell_type": "markdown",
   "id": "2244606d",
   "metadata": {
    "papermill": {
     "duration": 0.008987,
     "end_time": "2023-08-25T10:43:19.784848",
     "exception": false,
     "start_time": "2023-08-25T10:43:19.775861",
     "status": "completed"
    },
    "tags": []
   },
   "source": [
    "### Training the Neural Network\n",
    "**Aim:** our current `final_bias = 0.0`, we want to train the Neural Network `\"BasicLightning_train\"` and find the optim value for the `final_bias`.\n",
    "```python\n",
    "optimizer = SGD(params=model.parameters(), lr = 0.1)\n",
    "```\n",
    "* **Note:** The optimizer object **SGD (Stochastic Gradient Descent)**, will optmize every **Parameter** that we set **`requires_grad=True`**.\n",
    "\n",
    "**why DataLoader ???** because dataloaders are super useful when we have a lots of data:\n",
    "* They make it **easy to access** the data in batches.\n",
    "* They make it **easy to shuffle** the data in each Epoch.\n",
    "* They make it **easy to use** a relatively small fraction of data if we want to do quick and dirty training for debugging."
   ]
  },
  {
   "cell_type": "code",
   "execution_count": 8,
   "id": "f8bc40b3",
   "metadata": {
    "execution": {
     "iopub.execute_input": "2023-08-25T10:43:19.803728Z",
     "iopub.status.busy": "2023-08-25T10:43:19.803333Z",
     "iopub.status.idle": "2023-08-25T10:43:19.809661Z",
     "shell.execute_reply": "2023-08-25T10:43:19.808635Z"
    },
    "papermill": {
     "duration": 0.018434,
     "end_time": "2023-08-25T10:43:19.811944",
     "exception": false,
     "start_time": "2023-08-25T10:43:19.793510",
     "status": "completed"
    },
    "tags": []
   },
   "outputs": [],
   "source": [
    "### Training Data\n",
    "inputs = torch.tensor([0.0, 0.5, 1.0])\n",
    "labels = torch.tensor([0.0, 1.0, 0.0])\n",
    "\n",
    "dataset = TensorDataset(inputs,labels)\n",
    "dataloader = DataLoader(dataset)"
   ]
  },
  {
   "cell_type": "code",
   "execution_count": 9,
   "id": "9f1b524f",
   "metadata": {
    "execution": {
     "iopub.execute_input": "2023-08-25T10:43:19.832078Z",
     "iopub.status.busy": "2023-08-25T10:43:19.831166Z",
     "iopub.status.idle": "2023-08-25T10:43:19.842749Z",
     "shell.execute_reply": "2023-08-25T10:43:19.841769Z"
    },
    "papermill": {
     "duration": 0.024834,
     "end_time": "2023-08-25T10:43:19.845353",
     "exception": false,
     "start_time": "2023-08-25T10:43:19.820519",
     "status": "completed"
    },
    "tags": []
   },
   "outputs": [],
   "source": [
    "class BasicLightning_train(L.LightningModule):\n",
    "    def __init__(self): # Initialization method for our new class i.e \"BasicLightning\"\n",
    "        super().__init__() # Calling the initialization method of the parent class i.e LightningModule\n",
    "        \n",
    "        ### Set the Parameters (Weights & Biases)\n",
    "        self.w00 = nn.Parameter(data= torch.tensor(1.7), requires_grad=False)\n",
    "        self.b00 = nn.Parameter(data= torch.tensor(-0.85), requires_grad=False)\n",
    "        self.w01 = nn.Parameter(data= torch.tensor(-40.8), requires_grad=False)\n",
    "        \n",
    "        self.w10 = nn.Parameter(data= torch.tensor(12.6), requires_grad=False)\n",
    "        self.b10 = nn.Parameter(data= torch.tensor(0.0), requires_grad=False)\n",
    "        self.w11 = nn.Parameter(data= torch.tensor(2.7), requires_grad=False)\n",
    "        \n",
    "        self.final_bias = nn.Parameter(data=torch.tensor(0.0), requires_grad=True)\n",
    "        \n",
    "        self.learning_rate = 0.01\n",
    "    \n",
    "    ### Now we need to connect those PyTorch Parameters with Input, Activation Function & Output\n",
    "    ### In other words, we need a way to \"make Forward Pass\" through Neural Network that uses the weights & bias\n",
    "    ### that we have just initialized\n",
    "    \n",
    "    def forward(self, inputs):\n",
    "        input_to_top_relu = inputs * self.w00 + self.b00\n",
    "        top_relu_output = F.relu(input_to_top_relu)\n",
    "        scaled_top_relu_output = top_relu_output * self.w01\n",
    "        \n",
    "        input_to_bottom_relu = inputs * self.w10 + self.b10\n",
    "        bottom_relu_output = F.relu(input_to_bottom_relu)\n",
    "        scaled_bottom_relu_output = bottom_relu_output * self.w11\n",
    "        \n",
    "        input_to_final_relu = (scaled_top_relu_output + scaled_bottom_relu_output + self.final_bias)\n",
    "        \n",
    "        output = F.relu(input_to_final_relu)\n",
    "        \n",
    "        return output\n",
    "    \n",
    "    def configure_optimizers(self):\n",
    "        ### SGD (Stochastic Gradient Descent), will optmize every Parameter that we set requires_grad=True.\n",
    "        return SGD(params=self.parameters() ,lr=self.learning_rate)\n",
    "    \n",
    "    def training_step(self, batch, batch_idx):\n",
    "        input_i, label_i = batch\n",
    "        output_i = self.forward(input_i)\n",
    "        loss = (label_i - output_i) ** 2\n",
    "        return loss"
   ]
  },
  {
   "cell_type": "markdown",
   "id": "13af19fe",
   "metadata": {
    "papermill": {
     "duration": 0.008299,
     "end_time": "2023-08-25T10:43:19.862275",
     "exception": false,
     "start_time": "2023-08-25T10:43:19.853976",
     "status": "completed"
    },
    "tags": []
   },
   "source": [
    "### optimizing/training the neural network\n",
    "\n",
    "**`Lightning Trainer :`** which we will first use to find a good value for the `\"Learning Rate\"` and then we will use it to **optimize** or **train**, the model."
   ]
  },
  {
   "cell_type": "code",
   "execution_count": 10,
   "id": "2f2bbf64",
   "metadata": {
    "execution": {
     "iopub.execute_input": "2023-08-25T10:43:19.882318Z",
     "iopub.status.busy": "2023-08-25T10:43:19.881500Z",
     "iopub.status.idle": "2023-08-25T10:43:20.995837Z",
     "shell.execute_reply": "2023-08-25T10:43:20.994302Z"
    },
    "papermill": {
     "duration": 1.127606,
     "end_time": "2023-08-25T10:43:20.998483",
     "exception": false,
     "start_time": "2023-08-25T10:43:19.870877",
     "status": "completed"
    },
    "tags": []
   },
   "outputs": [
    {
     "name": "stderr",
     "output_type": "stream",
     "text": [
      "INFO: GPU available: False, used: False\n",
      "INFO: TPU available: False, using: 0 TPU cores\n",
      "INFO: IPU available: False, using: 0 IPUs\n",
      "INFO: HPU available: False, using: 0 HPUs\n",
      "WARNING: Missing logger folder: /kaggle/working/lightning_logs\n",
      "/opt/conda/lib/python3.10/site-packages/lightning/pytorch/trainer/connectors/data_connector.py:438: PossibleUserWarning: The dataloader, train_dataloader, does not have many workers which may be a bottleneck. Consider increasing the value of the `num_workers` argument` (try 4 which is the number of cpus on this machine) in the `DataLoader` init to improve performance.\n",
      "  rank_zero_warn(\n",
      "/opt/conda/lib/python3.10/site-packages/lightning/pytorch/loops/fit_loop.py:281: PossibleUserWarning: The number of training batches (3) is smaller than the logging interval Trainer(log_every_n_steps=50). Set a lower value for log_every_n_steps if you want to see logs for the training epoch.\n",
      "  rank_zero_warn(\n"
     ]
    },
    {
     "data": {
      "application/vnd.jupyter.widget-view+json": {
       "model_id": "8bdadce4d61a433da48c995f480068e2",
       "version_major": 2,
       "version_minor": 0
      },
      "text/plain": [
       "Finding best initial lr:   0%|          | 0/100 [00:00<?, ?it/s]"
      ]
     },
     "metadata": {},
     "output_type": "display_data"
    },
    {
     "name": "stderr",
     "output_type": "stream",
     "text": [
      "INFO: `Trainer.fit` stopped: `max_steps=100` reached.\n",
      "INFO: Learning rate set to 0.002137962089502232\n",
      "INFO: Restoring states from the checkpoint path at /kaggle/working/.lr_find_750a0286-9415-47f6-89d0-6ad3aeefeaaf.ckpt\n",
      "INFO: Restored all states from the checkpoint at /kaggle/working/.lr_find_750a0286-9415-47f6-89d0-6ad3aeefeaaf.ckpt\n"
     ]
    },
    {
     "name": "stdout",
     "output_type": "stream",
     "text": [
      "\n",
      "find_learning_rate() suggests : 0.002138 for the learning rate.\n",
      "\n"
     ]
    }
   ],
   "source": [
    "# create a model object\n",
    "model = BasicLightning_train()\n",
    "# create a Lightning Trainer, \n",
    "trainer = L.Trainer(max_epochs=34, accelerator=\"auto\", devices=\"auto\")\n",
    "# create a tuner\n",
    "tuner = L.pytorch.tuner.Tuner(trainer)\n",
    "\n",
    "# Find the optimal Learning Rate\n",
    "find_learning_rate = tuner.lr_find(model,train_dataloaders = dataloader,\n",
    "                                          min_lr = 0.001,\n",
    "                                          max_lr = 1.0,\n",
    "                                          early_stop_threshold = None)\n",
    "\n",
    "new_learning_rate = find_learning_rate.suggestion()\n",
    "print(f\"\\nfind_learning_rate() suggests : {new_learning_rate:5f} for the learning rate.\\n\")"
   ]
  },
  {
   "cell_type": "markdown",
   "id": "56c25c16",
   "metadata": {
    "papermill": {
     "duration": 0.009376,
     "end_time": "2023-08-25T10:43:21.017490",
     "exception": false,
     "start_time": "2023-08-25T10:43:21.008114",
     "status": "completed"
    },
    "tags": []
   },
   "source": [
    "### How the trainer.fit() works???\n",
    "1. After we call the `trainer.fit()`,\n",
    "2. The `trainer` will then call our model's `configure_optimizers()` method, which then configures our optimizer **SGD** with the newly found **Learning Rate**.\n",
    "3. Then the **trainer** calls our model's `training_step()` method, to calculate the loss. The following steps are automatically performed by Lightning, unlike PyTorch:\n",
    "    * in **Lightning** the **trainer** will call `optimizer.zero_grad()` so that each Epoch starts with fresh **Gradient**, and then\n",
    "    * the **trainer** will call `loss.backward()` to calculate the **new Gradient**, and then \n",
    "    * the **trainer** will call `optimizer.step()` to take a step towards finding the optimal values for the parameters(weights & biases).\n",
    "4. The model's `training_step()` method gets called, equals to the number of Epochs."
   ]
  },
  {
   "cell_type": "code",
   "execution_count": 11,
   "id": "b70f116a",
   "metadata": {
    "execution": {
     "iopub.execute_input": "2023-08-25T10:43:21.039570Z",
     "iopub.status.busy": "2023-08-25T10:43:21.038280Z",
     "iopub.status.idle": "2023-08-25T10:43:21.894541Z",
     "shell.execute_reply": "2023-08-25T10:43:21.893127Z"
    },
    "papermill": {
     "duration": 0.86982,
     "end_time": "2023-08-25T10:43:21.897329",
     "exception": false,
     "start_time": "2023-08-25T10:43:21.027509",
     "status": "completed"
    },
    "tags": []
   },
   "outputs": [
    {
     "name": "stderr",
     "output_type": "stream",
     "text": [
      "INFO: \n",
      "  | Name | Type | Params\n",
      "------------------------------\n",
      "------------------------------\n",
      "1         Trainable params\n",
      "6         Non-trainable params\n",
      "7         Total params\n",
      "0.000     Total estimated model params size (MB)\n"
     ]
    },
    {
     "data": {
      "application/vnd.jupyter.widget-view+json": {
       "model_id": "bdedd4a0c5d44585afe4cc0bc81fb24b",
       "version_major": 2,
       "version_minor": 0
      },
      "text/plain": [
       "Training: 0it [00:00, ?it/s]"
      ]
     },
     "metadata": {},
     "output_type": "display_data"
    },
    {
     "name": "stderr",
     "output_type": "stream",
     "text": [
      "INFO: `Trainer.fit` stopped: `max_epochs=34` reached.\n"
     ]
    },
    {
     "name": "stdout",
     "output_type": "stream",
     "text": [
      "\n",
      "Final optimal Bias found : -2.170588970184326\n",
      "\n"
     ]
    }
   ],
   "source": [
    "# update the learning rate\n",
    "model.learning_rate = new_learning_rate\n",
    "\n",
    "# train the model\n",
    "trainer.fit(model = model, train_dataloaders=dataloader, val_dataloaders=None)\n",
    "\n",
    "print(f\"\\nFinal optimal Bias found : {model.final_bias.data}\\n\")"
   ]
  },
  {
   "cell_type": "code",
   "execution_count": 12,
   "id": "89fa56f7",
   "metadata": {
    "execution": {
     "iopub.execute_input": "2023-08-25T10:43:21.919378Z",
     "iopub.status.busy": "2023-08-25T10:43:21.918956Z",
     "iopub.status.idle": "2023-08-25T10:43:22.168470Z",
     "shell.execute_reply": "2023-08-25T10:43:22.166862Z"
    },
    "papermill": {
     "duration": 0.263635,
     "end_time": "2023-08-25T10:43:22.171005",
     "exception": false,
     "start_time": "2023-08-25T10:43:21.907370",
     "status": "completed"
    },
    "tags": []
   },
   "outputs": [
    {
     "name": "stdout",
     "output_type": "stream",
     "text": [
      "output : tensor([ 0.0000,  1.2314,  4.6334,  8.0354, 11.4374, 14.8394, 11.3054,  7.7714,\n",
      "         4.2374,  0.7034,  0.0000], grad_fn=<ReluBackward0>)\n"
     ]
    },
    {
     "data": {
      "image/png": "[encoded data removed]",
      "text/plain": [
       "<Figure size 640x480 with 1 Axes>"
      ]
     },
     "metadata": {},
     "output_type": "display_data"
    }
   ],
   "source": [
    "# \"model\" calls the \"forward\" method by deafault\n",
    "output = model(input_doses)\n",
    "print(f\"output : {output}\")\n",
    "\n",
    "plt.plot(input_doses, output.detach(), color = \"g\", marker = \"o\")\n",
    "plt.xlabel(\"Doses\")\n",
    "plt.ylabel(\"Effectiveness (Predictions)\")\n",
    "plt.show()"
   ]
  },
  {
   "cell_type": "code",
   "execution_count": null,
   "id": "c9f44a94",
   "metadata": {
    "papermill": {
     "duration": 0.010261,
     "end_time": "2023-08-25T10:43:22.192021",
     "exception": false,
     "start_time": "2023-08-25T10:43:22.181760",
     "status": "completed"
    },
    "tags": []
   },
   "outputs": [],
   "source": []
  }
 ],
 "metadata": {
  "kernelspec": {
   "display_name": "Python 3",
   "language": "python",
   "name": "python3"
  },
  "language_info": {
   "codemirror_mode": {
    "name": "ipython",
    "version": 3
   },
   "file_extension": ".py",
   "mimetype": "text/x-python",
   "name": "python",
   "nbconvert_exporter": "python",
   "pygments_lexer": "ipython3",
   "version": "3.10.12"
  },
  "papermill": {
   "default_parameters": {},
   "duration": 55.694991,
   "end_time": "2023-08-25T10:43:24.957789",
   "environment_variables": {},
   "exception": null,
   "input_path": "__notebook__.ipynb",
   "output_path": "__notebook__.ipynb",
   "parameters": {},
   "start_time": "2023-08-25T10:42:29.262798",
   "version": "2.4.0"
  },
  "widgets": {
   "application/vnd.jupyter.widget-state+json": {
    "state": {
     "0a41965d1cbd4df0a1bbed334e4ebfff": {
      "model_module": "@jupyter-widgets/controls",
      "model_module_version": "1.5.0",
      "model_name": "DescriptionStyleModel",
      "state": {
       "_model_module": "@jupyter-widgets/controls",
       "_model_module_version": "1.5.0",
       "_model_name": "DescriptionStyleModel",
       "_view_count": null,
       "_view_module": "@jupyter-widgets/base",
       "_view_module_version": "1.2.0",
       "_view_name": "StyleView",
       "description_width": ""
      }
     },
     "0f8d81959c9049e2b7c8294bc1a7db23": {
      "model_module": "@jupyter-widgets/controls",
      "model_module_version": "1.5.0",
      "model_name": "DescriptionStyleModel",
      "state": {
       "_model_module": "@jupyter-widgets/controls",
       "_model_module_version": "1.5.0",
       "_model_name": "DescriptionStyleModel",
       "_view_count": null,
       "_view_module": "@jupyter-widgets/base",
       "_view_module_version": "1.2.0",
       "_view_name": "StyleView",
       "description_width": ""
      }
     },
     "10155bd8c417438185d32de98f9ca473": {
      "model_module": "@jupyter-widgets/controls",
      "model_module_version": "1.5.0",
      "model_name": "FloatProgressModel",
      "state": {
       "_dom_classes": [],
       "_model_module": "@jupyter-widgets/controls",
       "_model_module_version": "1.5.0",
       "_model_name": "FloatProgressModel",
       "_view_count": null,
       "_view_module": "@jupyter-widgets/controls",
       "_view_module_version": "1.5.0",
       "_view_name": "ProgressView",
       "bar_style": "success",
       "description": "",
       "description_tooltip": null,
       "layout": "IPY_MODEL_f5b4e8d52a634a9993553895986f3efe",
       "max": 3.0,
       "min": 0.0,
       "orientation": "horizontal",
       "style": "IPY_MODEL_f702cc7ac7de40bda3c0a23df4b5c845",
       "value": 3.0
      }
     },
     "397c96f5a41f4f82aed8b802a9113bdf": {
      "model_module": "@jupyter-widgets/controls",
      "model_module_version": "1.5.0",
      "model_name": "HTMLModel",
      "state": {
       "_dom_classes": [],
       "_model_module": "@jupyter-widgets/controls",
       "_model_module_version": "1.5.0",
       "_model_name": "HTMLModel",
       "_view_count": null,
       "_view_module": "@jupyter-widgets/controls",
       "_view_module_version": "1.5.0",
       "_view_name": "HTMLView",
       "description": "",
       "description_tooltip": null,
       "layout": "IPY_MODEL_bebd0e35826542f7a22052c9888b36d4",
       "placeholder": "​",
       "style": "IPY_MODEL_740475acf03c40a784d038cfb7894567",
       "value": "Epoch 33: 100%"
      }
     },
     "5c8fee3ef7bb41bc9bfcbf7e6dd68c89": {
      "model_module": "@jupyter-widgets/base",
      "model_module_version": "1.2.0",
      "model_name": "LayoutModel",
      "state": {
       "_model_module": "@jupyter-widgets/base",
       "_model_module_version": "1.2.0",
       "_model_name": "LayoutModel",
       "_view_count": null,
       "_view_module": "@jupyter-widgets/base",
       "_view_module_version": "1.2.0",
       "_view_name": "LayoutView",
       "align_content": null,
       "align_items": null,
       "align_self": null,
       "border": null,
       "bottom": null,
       "display": null,
       "flex": null,
       "flex_flow": null,
       "grid_area": null,
       "grid_auto_columns": null,
       "grid_auto_flow": null,
       "grid_auto_rows": null,
       "grid_column": null,
       "grid_gap": null,
       "grid_row": null,
       "grid_template_areas": null,
       "grid_template_columns": null,
       "grid_template_rows": null,
       "height": null,
       "justify_content": null,
       "justify_items": null,
       "left": null,
       "margin": null,
       "max_height": null,
       "max_width": null,
       "min_height": null,
       "min_width": null,
       "object_fit": null,
       "object_position": null,
       "order": null,
       "overflow": null,
       "overflow_x": null,
       "overflow_y": null,
       "padding": null,
       "right": null,
       "top": null,
       "visibility": null,
       "width": null
      }
     },
     "5fd3c385631d47e6929f4c0e1e7e0b44": {
      "model_module": "@jupyter-widgets/controls",
      "model_module_version": "1.5.0",
      "model_name": "HTMLModel",
      "state": {
       "_dom_classes": [],
       "_model_module": "@jupyter-widgets/controls",
       "_model_module_version": "1.5.0",
       "_model_name": "HTMLModel",
       "_view_count": null,
       "_view_module": "@jupyter-widgets/controls",
       "_view_module_version": "1.5.0",
       "_view_name": "HTMLView",
       "description": "",
       "description_tooltip": null,
       "layout": "IPY_MODEL_ca9f1876477f437f8961c50bb7a2844d",
       "placeholder": "​",
       "style": "IPY_MODEL_0f8d81959c9049e2b7c8294bc1a7db23",
       "value": "Finding best initial lr: 100%"
      }
     },
     "722ddcd5539c4552b87b54747af6ec3d": {
      "model_module": "@jupyter-widgets/base",
      "model_module_version": "1.2.0",
      "model_name": "LayoutModel",
      "state": {
       "_model_module": "@jupyter-widgets/base",
       "_model_module_version": "1.2.0",
       "_model_name": "LayoutModel",
       "_view_count": null,
       "_view_module": "@jupyter-widgets/base",
       "_view_module_version": "1.2.0",
       "_view_name": "LayoutView",
       "align_content": null,
       "align_items": null,
       "align_self": null,
       "border": null,
       "bottom": null,
       "display": null,
       "flex": null,
       "flex_flow": null,
       "grid_area": null,
       "grid_auto_columns": null,
       "grid_auto_flow": null,
       "grid_auto_rows": null,
       "grid_column": null,
       "grid_gap": null,
       "grid_row": null,
       "grid_template_areas": null,
       "grid_template_columns": null,
       "grid_template_rows": null,
       "height": null,
       "justify_content": null,
       "justify_items": null,
       "left": null,
       "margin": null,
       "max_height": null,
       "max_width": null,
       "min_height": null,
       "min_width": null,
       "object_fit": null,
       "object_position": null,
       "order": null,
       "overflow": null,
       "overflow_x": null,
       "overflow_y": null,
       "padding": null,
       "right": null,
       "top": null,
       "visibility": null,
       "width": null
      }
     },
     "740475acf03c40a784d038cfb7894567": {
      "model_module": "@jupyter-widgets/controls",
      "model_module_version": "1.5.0",
      "model_name": "DescriptionStyleModel",
      "state": {
       "_model_module": "@jupyter-widgets/controls",
       "_model_module_version": "1.5.0",
       "_model_name": "DescriptionStyleModel",
       "_view_count": null,
       "_view_module": "@jupyter-widgets/base",
       "_view_module_version": "1.2.0",
       "_view_name": "StyleView",
       "description_width": ""
      }
     },
     "8bdadce4d61a433da48c995f480068e2": {
      "model_module": "@jupyter-widgets/controls",
      "model_module_version": "1.5.0",
      "model_name": "HBoxModel",
      "state": {
       "_dom_classes": [],
       "_model_module": "@jupyter-widgets/controls",
       "_model_module_version": "1.5.0",
       "_model_name": "HBoxModel",
       "_view_count": null,
       "_view_module": "@jupyter-widgets/controls",
       "_view_module_version": "1.5.0",
       "_view_name": "HBoxView",
       "box_style": "",
       "children": [
        "IPY_MODEL_5fd3c385631d47e6929f4c0e1e7e0b44",
        "IPY_MODEL_92eea2d3dbdd4e3aa16ee2d53463be9e",
        "IPY_MODEL_b8f639238e184a76b4a18e5fa96c0c8a"
       ],
       "layout": "IPY_MODEL_a4f5ab75172b4cdd974d4c7fc72721e1"
      }
     },
     "92eea2d3dbdd4e3aa16ee2d53463be9e": {
      "model_module": "@jupyter-widgets/controls",
      "model_module_version": "1.5.0",
      "model_name": "FloatProgressModel",
      "state": {
       "_dom_classes": [],
       "_model_module": "@jupyter-widgets/controls",
       "_model_module_version": "1.5.0",
       "_model_name": "FloatProgressModel",
       "_view_count": null,
       "_view_module": "@jupyter-widgets/controls",
       "_view_module_version": "1.5.0",
       "_view_name": "ProgressView",
       "bar_style": "success",
       "description": "",
       "description_tooltip": null,
       "layout": "IPY_MODEL_5c8fee3ef7bb41bc9bfcbf7e6dd68c89",
       "max": 100.0,
       "min": 0.0,
       "orientation": "horizontal",
       "style": "IPY_MODEL_a91d2ccb343845e195cd13da2b58b941",
       "value": 100.0
      }
     },
     "96f500717fb6488dbaff90c614b5a84c": {
      "model_module": "@jupyter-widgets/base",
      "model_module_version": "1.2.0",
      "model_name": "LayoutModel",
      "state": {
       "_model_module": "@jupyter-widgets/base",
       "_model_module_version": "1.2.0",
       "_model_name": "LayoutModel",
       "_view_count": null,
       "_view_module": "@jupyter-widgets/base",
       "_view_module_version": "1.2.0",
       "_view_name": "LayoutView",
       "align_content": null,
       "align_items": null,
       "align_self": null,
       "border": null,
       "bottom": null,
       "display": null,
       "flex": null,
       "flex_flow": null,
       "grid_area": null,
       "grid_auto_columns": null,
       "grid_auto_flow": null,
       "grid_auto_rows": null,
       "grid_column": null,
       "grid_gap": null,
       "grid_row": null,
       "grid_template_areas": null,
       "grid_template_columns": null,
       "grid_template_rows": null,
       "height": null,
       "justify_content": null,
       "justify_items": null,
       "left": null,
       "margin": null,
       "max_height": null,
       "max_width": null,
       "min_height": null,
       "min_width": null,
       "object_fit": null,
       "object_position": null,
       "order": null,
       "overflow": null,
       "overflow_x": null,
       "overflow_y": null,
       "padding": null,
       "right": null,
       "top": null,
       "visibility": null,
       "width": null
      }
     },
     "9d34775dab444599a3212bb65da57597": {
      "model_module": "@jupyter-widgets/base",
      "model_module_version": "1.2.0",
      "model_name": "LayoutModel",
      "state": {
       "_model_module": "@jupyter-widgets/base",
       "_model_module_version": "1.2.0",
       "_model_name": "LayoutModel",
       "_view_count": null,
       "_view_module": "@jupyter-widgets/base",
       "_view_module_version": "1.2.0",
       "_view_name": "LayoutView",
       "align_content": null,
       "align_items": null,
       "align_self": null,
       "border": null,
       "bottom": null,
       "display": "inline-flex",
       "flex": null,
       "flex_flow": "row wrap",
       "grid_area": null,
       "grid_auto_columns": null,
       "grid_auto_flow": null,
       "grid_auto_rows": null,
       "grid_column": null,
       "grid_gap": null,
       "grid_row": null,
       "grid_template_areas": null,
       "grid_template_columns": null,
       "grid_template_rows": null,
       "height": null,
       "justify_content": null,
       "justify_items": null,
       "left": null,
       "margin": null,
       "max_height": null,
       "max_width": null,
       "min_height": null,
       "min_width": null,
       "object_fit": null,
       "object_position": null,
       "order": null,
       "overflow": null,
       "overflow_x": null,
       "overflow_y": null,
       "padding": null,
       "right": null,
       "top": null,
       "visibility": null,
       "width": "100%"
      }
     },
     "a4f5ab75172b4cdd974d4c7fc72721e1": {
      "model_module": "@jupyter-widgets/base",
      "model_module_version": "1.2.0",
      "model_name": "LayoutModel",
      "state": {
       "_model_module": "@jupyter-widgets/base",
       "_model_module_version": "1.2.0",
       "_model_name": "LayoutModel",
       "_view_count": null,
       "_view_module": "@jupyter-widgets/base",
       "_view_module_version": "1.2.0",
       "_view_name": "LayoutView",
       "align_content": null,
       "align_items": null,
       "align_self": null,
       "border": null,
       "bottom": null,
       "display": null,
       "flex": null,
       "flex_flow": null,
       "grid_area": null,
       "grid_auto_columns": null,
       "grid_auto_flow": null,
       "grid_auto_rows": null,
       "grid_column": null,
       "grid_gap": null,
       "grid_row": null,
       "grid_template_areas": null,
       "grid_template_columns": null,
       "grid_template_rows": null,
       "height": null,
       "justify_content": null,
       "justify_items": null,
       "left": null,
       "margin": null,
       "max_height": null,
       "max_width": null,
       "min_height": null,
       "min_width": null,
       "object_fit": null,
       "object_position": null,
       "order": null,
       "overflow": null,
       "overflow_x": null,
       "overflow_y": null,
       "padding": null,
       "right": null,
       "top": null,
       "visibility": null,
       "width": null
      }
     },
     "a91d2ccb343845e195cd13da2b58b941": {
      "model_module": "@jupyter-widgets/controls",
      "model_module_version": "1.5.0",
      "model_name": "ProgressStyleModel",
      "state": {
       "_model_module": "@jupyter-widgets/controls",
       "_model_module_version": "1.5.0",
       "_model_name": "ProgressStyleModel",
       "_view_count": null,
       "_view_module": "@jupyter-widgets/base",
       "_view_module_version": "1.2.0",
       "_view_name": "StyleView",
       "bar_color": null,
       "description_width": ""
      }
     },
     "b8f639238e184a76b4a18e5fa96c0c8a": {
      "model_module": "@jupyter-widgets/controls",
      "model_module_version": "1.5.0",
      "model_name": "HTMLModel",
      "state": {
       "_dom_classes": [],
       "_model_module": "@jupyter-widgets/controls",
       "_model_module_version": "1.5.0",
       "_model_name": "HTMLModel",
       "_view_count": null,
       "_view_module": "@jupyter-widgets/controls",
       "_view_module_version": "1.5.0",
       "_view_name": "HTMLView",
       "description": "",
       "description_tooltip": null,
       "layout": "IPY_MODEL_722ddcd5539c4552b87b54747af6ec3d",
       "placeholder": "​",
       "style": "IPY_MODEL_0a41965d1cbd4df0a1bbed334e4ebfff",
       "value": " 100/100 [00:01&lt;00:00, 540.76it/s]"
      }
     },
     "bdedd4a0c5d44585afe4cc0bc81fb24b": {
      "model_module": "@jupyter-widgets/controls",
      "model_module_version": "1.5.0",
      "model_name": "HBoxModel",
      "state": {
       "_dom_classes": [],
       "_model_module": "@jupyter-widgets/controls",
       "_model_module_version": "1.5.0",
       "_model_name": "HBoxModel",
       "_view_count": null,
       "_view_module": "@jupyter-widgets/controls",
       "_view_module_version": "1.5.0",
       "_view_name": "HBoxView",
       "box_style": "",
       "children": [
        "IPY_MODEL_397c96f5a41f4f82aed8b802a9113bdf",
        "IPY_MODEL_10155bd8c417438185d32de98f9ca473",
        "IPY_MODEL_d9c3e910881443beb41018e7954b48b7"
       ],
       "layout": "IPY_MODEL_9d34775dab444599a3212bb65da57597"
      }
     },
     "bebd0e35826542f7a22052c9888b36d4": {
      "model_module": "@jupyter-widgets/base",
      "model_module_version": "1.2.0",
      "model_name": "LayoutModel",
      "state": {
       "_model_module": "@jupyter-widgets/base",
       "_model_module_version": "1.2.0",
       "_model_name": "LayoutModel",
       "_view_count": null,
       "_view_module": "@jupyter-widgets/base",
       "_view_module_version": "1.2.0",
       "_view_name": "LayoutView",
       "align_content": null,
       "align_items": null,
       "align_self": null,
       "border": null,
       "bottom": null,
       "display": null,
       "flex": null,
       "flex_flow": null,
       "grid_area": null,
       "grid_auto_columns": null,
       "grid_auto_flow": null,
       "grid_auto_rows": null,
       "grid_column": null,
       "grid_gap": null,
       "grid_row": null,
       "grid_template_areas": null,
       "grid_template_columns": null,
       "grid_template_rows": null,
       "height": null,
       "justify_content": null,
       "justify_items": null,
       "left": null,
       "margin": null,
       "max_height": null,
       "max_width": null,
       "min_height": null,
       "min_width": null,
       "object_fit": null,
       "object_position": null,
       "order": null,
       "overflow": null,
       "overflow_x": null,
       "overflow_y": null,
       "padding": null,
       "right": null,
       "top": null,
       "visibility": null,
       "width": null
      }
     },
     "ca9f1876477f437f8961c50bb7a2844d": {
      "model_module": "@jupyter-widgets/base",
      "model_module_version": "1.2.0",
      "model_name": "LayoutModel",
      "state": {
       "_model_module": "@jupyter-widgets/base",
       "_model_module_version": "1.2.0",
       "_model_name": "LayoutModel",
       "_view_count": null,
       "_view_module": "@jupyter-widgets/base",
       "_view_module_version": "1.2.0",
       "_view_name": "LayoutView",
       "align_content": null,
       "align_items": null,
       "align_self": null,
       "border": null,
       "bottom": null,
       "display": null,
       "flex": null,
       "flex_flow": null,
       "grid_area": null,
       "grid_auto_columns": null,
       "grid_auto_flow": null,
       "grid_auto_rows": null,
       "grid_column": null,
       "grid_gap": null,
       "grid_row": null,
       "grid_template_areas": null,
       "grid_template_columns": null,
       "grid_template_rows": null,
       "height": null,
       "justify_content": null,
       "justify_items": null,
       "left": null,
       "margin": null,
       "max_height": null,
       "max_width": null,
       "min_height": null,
       "min_width": null,
       "object_fit": null,
       "object_position": null,
       "order": null,
       "overflow": null,
       "overflow_x": null,
       "overflow_y": null,
       "padding": null,
       "right": null,
       "top": null,
       "visibility": null,
       "width": null
      }
     },
     "d9c3e910881443beb41018e7954b48b7": {
      "model_module": "@jupyter-widgets/controls",
      "model_module_version": "1.5.0",
      "model_name": "HTMLModel",
      "state": {
       "_dom_classes": [],
       "_model_module": "@jupyter-widgets/controls",
       "_model_module_version": "1.5.0",
       "_model_name": "HTMLModel",
       "_view_count": null,
       "_view_module": "@jupyter-widgets/controls",
       "_view_module_version": "1.5.0",
       "_view_name": "HTMLView",
       "description": "",
       "description_tooltip": null,
       "layout": "IPY_MODEL_96f500717fb6488dbaff90c614b5a84c",
       "placeholder": "​",
       "style": "IPY_MODEL_e77a8e06cd1548868fe7ca682e2a6031",
       "value": " 3/3 [00:00&lt;00:00, 119.58it/s, v_num=0]"
      }
     },
     "e77a8e06cd1548868fe7ca682e2a6031": {
      "model_module": "@jupyter-widgets/controls",
      "model_module_version": "1.5.0",
      "model_name": "DescriptionStyleModel",
      "state": {
       "_model_module": "@jupyter-widgets/controls",
       "_model_module_version": "1.5.0",
       "_model_name": "DescriptionStyleModel",
       "_view_count": null,
       "_view_module": "@jupyter-widgets/base",
       "_view_module_version": "1.2.0",
       "_view_name": "StyleView",
       "description_width": ""
      }
     },
     "f5b4e8d52a634a9993553895986f3efe": {
      "model_module": "@jupyter-widgets/base",
      "model_module_version": "1.2.0",
      "model_name": "LayoutModel",
      "state": {
       "_model_module": "@jupyter-widgets/base",
       "_model_module_version": "1.2.0",
       "_model_name": "LayoutModel",
       "_view_count": null,
       "_view_module": "@jupyter-widgets/base",
       "_view_module_version": "1.2.0",
       "_view_name": "LayoutView",
       "align_content": null,
       "align_items": null,
       "align_self": null,
       "border": null,
       "bottom": null,
       "display": null,
       "flex": "2",
       "flex_flow": null,
       "grid_area": null,
       "grid_auto_columns": null,
       "grid_auto_flow": null,
       "grid_auto_rows": null,
       "grid_column": null,
       "grid_gap": null,
       "grid_row": null,
       "grid_template_areas": null,
       "grid_template_columns": null,
       "grid_template_rows": null,
       "height": null,
       "justify_content": null,
       "justify_items": null,
       "left": null,
       "margin": null,
       "max_height": null,
       "max_width": null,
       "min_height": null,
       "min_width": null,
       "object_fit": null,
       "object_position": null,
       "order": null,
       "overflow": null,
       "overflow_x": null,
       "overflow_y": null,
       "padding": null,
       "right": null,
       "top": null,
       "visibility": null,
       "width": null
      }
     },
     "f702cc7ac7de40bda3c0a23df4b5c845": {
      "model_module": "@jupyter-widgets/controls",
      "model_module_version": "1.5.0",
      "model_name": "ProgressStyleModel",
      "state": {
       "_model_module": "@jupyter-widgets/controls",
       "_model_module_version": "1.5.0",
       "_model_name": "ProgressStyleModel",
       "_view_count": null,
       "_view_module": "@jupyter-widgets/base",
       "_view_module_version": "1.2.0",
       "_view_name": "StyleView",
       "bar_color": null,
       "description_width": ""
      }
     }
    },
    "version_major": 2,
    "version_minor": 0
   }
  }
 },
 "nbformat": 4,
 "nbformat_minor": 5
}
