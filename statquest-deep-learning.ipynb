{
 "cells": [
  {
   "cell_type": "code",
   "execution_count": 1,
   "id": "d916f4c5",
   "metadata": {
    "_cell_guid": "b1076dfc-b9ad-4769-8c92-a6c4dae69d19",
    "_uuid": "8f2839f25d086af736a60e9eeb907d3b93b6e0e5",
    "execution": {
     "iopub.execute_input": "2023-08-25T06:24:08.137273Z",
     "iopub.status.busy": "2023-08-25T06:24:08.136078Z",
     "iopub.status.idle": "2023-08-25T06:24:08.147212Z",
     "shell.execute_reply": "2023-08-25T06:24:08.146407Z"
    },
    "papermill": {
     "duration": 0.019002,
     "end_time": "2023-08-25T06:24:08.149300",
     "exception": false,
     "start_time": "2023-08-25T06:24:08.130298",
     "status": "completed"
    },
    "tags": []
   },
   "outputs": [],
   "source": [
    "# This Python 3 environment comes with many helpful analytics libraries installed\n",
    "# It is defined by the kaggle/python Docker image: https://github.com/kaggle/docker-python\n",
    "# For example, here's several helpful packages to load\n",
    "\n",
    "import numpy as np # linear algebra\n",
    "import pandas as pd # data processing, CSV file I/O (e.g. pd.read_csv)\n",
    "\n",
    "# Input data files are available in the read-only \"../input/\" directory\n",
    "# For example, running this (by clicking run or pressing Shift+Enter) will list all files under the input directory\n",
    "\n",
    "import os\n",
    "for dirname, _, filenames in os.walk('/kaggle/input'):\n",
    "    for filename in filenames:\n",
    "        print(os.path.join(dirname, filename))\n",
    "\n",
    "# You can write up to 20GB to the current directory (/kaggle/working/) that gets preserved as output when you create a version using \"Save & Run All\" \n",
    "# You can also write temporary files to /kaggle/temp/, but they won't be saved outside of the current session"
   ]
  },
  {
   "cell_type": "markdown",
   "id": "87e3b42e",
   "metadata": {
    "papermill": {
     "duration": 0.003253,
     "end_time": "2023-08-25T06:24:08.156208",
     "exception": false,
     "start_time": "2023-08-25T06:24:08.152955",
     "status": "completed"
    },
    "tags": []
   },
   "source": [
    "# [The StatQuest Introduction to PyTorch](https://www.youtube.com/watch?v=FHdlXe1bSe4&list=PLblh5JKOoLUIxGDQs4LFFD--41Vzf-ME1&index=22)"
   ]
  },
  {
   "cell_type": "code",
   "execution_count": null,
   "id": "4c2c3c6d",
   "metadata": {
    "papermill": {
     "duration": 0.002872,
     "end_time": "2023-08-25T06:24:08.162198",
     "exception": false,
     "start_time": "2023-08-25T06:24:08.159326",
     "status": "completed"
    },
    "tags": []
   },
   "outputs": [],
   "source": []
  },
  {
   "cell_type": "markdown",
   "id": "f567d7a7",
   "metadata": {
    "papermill": {
     "duration": 0.002818,
     "end_time": "2023-08-25T06:24:08.168166",
     "exception": false,
     "start_time": "2023-08-25T06:24:08.165348",
     "status": "completed"
    },
    "tags": []
   },
   "source": [
    "## Neural Network class\n",
    "With PyTorch, creating a Neural Network means creating a **new Class**.\n",
    "\n",
    "Create a class for our Neural Network, say BasicNN\n",
    "```python\n",
    "class BasicNN(nn.Module):\n",
    "    \n",
    "    def __init__(self):\n",
    "        super().__init__() # calls the initialization method of the parent class i.e Module\n",
    "        pass\n",
    "    \n",
    "    def forward(self):\n",
    "        pass\n",
    "```\n",
    "\n",
    "In the above neural network \"BasicNN\" we have two methods **`init`** and **forward`** :\n",
    "* **`init method` :** creates and initializes the **weights** and **biases**.\n",
    "* **`forward method` :** does a **forward pass** through the Neural Network \"BasicNN\" by taking an input value and calculating the output value with the **weights, biases** & **activation functions.**"
   ]
  },
  {
   "cell_type": "code",
   "execution_count": 2,
   "id": "04169b84",
   "metadata": {
    "execution": {
     "iopub.execute_input": "2023-08-25T06:24:08.176349Z",
     "iopub.status.busy": "2023-08-25T06:24:08.175657Z",
     "iopub.status.idle": "2023-08-25T06:24:11.865669Z",
     "shell.execute_reply": "2023-08-25T06:24:11.864309Z"
    },
    "papermill": {
     "duration": 3.696903,
     "end_time": "2023-08-25T06:24:11.868093",
     "exception": false,
     "start_time": "2023-08-25T06:24:08.171190",
     "status": "completed"
    },
    "tags": []
   },
   "outputs": [
    {
     "name": "stdout",
     "output_type": "stream",
     "text": [
      "input : tensor([ 0.0000,  1.1000,  2.2000,  3.3000,  4.4000,  5.5000,  6.6000,  7.7000,\n",
      "         8.8000,  9.9000, 11.0000])\n",
      "\n",
      "Finished!!! creating multiple PyTorch Parameter for each Weights & Bias for our NN. \n",
      "\n",
      "output : tensor([0., 0., 0., 0., 0., 0., 0., 0., 0., 0., 0.])\n"
     ]
    },
    {
     "data": {
      "image/png": "[encoded data removed]",
      "text/plain": [
       "<Figure size 640x480 with 1 Axes>"
      ]
     },
     "metadata": {},
     "output_type": "display_data"
    }
   ],
   "source": [
    "# Import Modules\n",
    "import torch # to create tensors and store values\n",
    "import torch.nn as nn # to make the weights & bias tensors part of the Neural Network\n",
    "import torch.nn.functional as F # gives us the Activation Functions\n",
    "from torch.optim import SGD # optimizer to fit the Neural Network to the Data\n",
    "\n",
    "# To draw nice looking graphs\n",
    "import matplotlib.pyplot as plt\n",
    "\n",
    "# The Neural Network (BasicNN) inherits from a PyTorch class called Module\n",
    "class BasicNN(nn.Module):\n",
    "    def __init__(self): # initialization method for our new class i.e BasicNN\n",
    "        super().__init__() # calls the initialization method of the parent class i.e Module\n",
    "        \n",
    "        ### initialize the weights & biases in our Neural Network ###\n",
    "        # the first weight w00\n",
    "        ### making this weight a Parameter for the Neural Network, gives us the option to optimize it ###\n",
    "        self.w00 = nn.Parameter(data=torch.tensor(1.7), requires_grad=False)\n",
    "        self.b00 = nn.Parameter(data=torch.tensor(-0.85), requires_grad=False)\n",
    "        self.w01 = nn.Parameter(data=torch.tensor(-40.8), requires_grad=False)\n",
    "        \n",
    "        self.w10 = nn.Parameter(data=torch.tensor(12.6), requires_grad=False)\n",
    "        self.b10 = nn.Parameter(data=torch.tensor(0.0), requires_grad=False)\n",
    "        self.w11 = nn.Parameter(data=torch.tensor(2.70), requires_grad=False)\n",
    "        \n",
    "        self.final_bias = nn.Parameter(data=torch.tensor(-16.0), requires_grad=False)\n",
    "        \n",
    "        print(\"\\nFinished!!! creating multiple PyTorch Parameter for each Weights & Bias for our NN. \\n\")\n",
    "        \n",
    "    ### Now we need to connect those PyTorch Parameters with Input, Activation Function & Output\n",
    "    ### In other words, we need a way to \"make Forward Pass\" through Neural Network that uses the weights & bias\n",
    "    ### that we have just initialized\n",
    "    \n",
    "    def forward(self, input):\n",
    "        ### Now the first thing we want to do is connect the Input to the Activation Function\n",
    "        # (y = input * weight + b)\n",
    "        input_to_top_relu = input * self.w00 + self.b00 \n",
    "        # Pass the input_to_top_relu to the Activation Function\n",
    "        top_relu_output = F.relu(input_to_top_relu)\n",
    "        # Now scale the top_relu_output by the weight w01\n",
    "        scaled_top_relu_output = top_relu_output * self.w01\n",
    "        \n",
    "        ### Now do the same for the Bottom\n",
    "        # (y = input * weight + b)\n",
    "        input_to_bottom_relu = input * self.w10 + self.b10\n",
    "        # Pass the input_to_bottom_relu to the activation function\n",
    "        bottom_relu_output = F.relu(input_to_bottom_relu)\n",
    "        scaled_bottom_relu_output = bottom_relu_output * self.w11\n",
    "        \n",
    "        ### Now add the top and bottom scaled values to the final bias\n",
    "        input_to_final_relu = scaled_top_relu_output + scaled_bottom_relu_output + self.final_bias\n",
    "        ### Now pass the final dot product \"input_to_final_relu\" to the Activation Function to get the Final Output\n",
    "        # Final Output\n",
    "        output = F.relu(input_to_final_relu)\n",
    "        \n",
    "        return output\n",
    "    \n",
    "input_doses = torch.linspace(start = 0, end = 11, steps = 11)\n",
    "print(f\"input : {input_doses}\")\n",
    "### Now, the idea is to pass these input_doses through our Neural Network \"BasicNN\"\n",
    "model = BasicNN()\n",
    "\n",
    "output = model(input_doses)\n",
    "print(f\"output : {output}\")\n",
    "\n",
    "plt.plot(input_doses, output, color = \"g\", marker = \"o\")\n",
    "plt.xlabel(\"Doses\")\n",
    "plt.ylabel(\"Effectiveness (Predictions)\")\n",
    "plt.show()"
   ]
  },
  {
   "cell_type": "markdown",
   "id": "202d503f",
   "metadata": {
    "papermill": {
     "duration": 0.003849,
     "end_time": "2023-08-25T06:24:11.875991",
     "exception": false,
     "start_time": "2023-08-25T06:24:11.872142",
     "status": "completed"
    },
    "tags": []
   },
   "source": [
    "## Train Neural Network with Backpropagation\n",
    "Let's optimize the final bias with Backpropagation.\n",
    "\n",
    "```python\n",
    "class BasicNN_train(nn.Module):\n",
    "    \n",
    "    def __init__(self):\n",
    "        super().__init__() # calls the initialization method of the parent class i.e Module  \n",
    "        ...\n",
    "        # before\n",
    "        self.final_bias = nn.Parameter(data=torch.tensor(-16.0), requires_grad=False)\n",
    "        # after\n",
    "        self.final_bias = nn.Parameter(data=torch.tensor(0.0), requires_grad=True)\n",
    "    \n",
    "    def forward(self):\n",
    "        pass\n",
    "```\n",
    "\n",
    "* **`requires_grad=True` :** is what tells PyTorch that this parameter should be optimized."
   ]
  },
  {
   "cell_type": "code",
   "execution_count": 3,
   "id": "1a2bde22",
   "metadata": {
    "execution": {
     "iopub.execute_input": "2023-08-25T06:24:11.885665Z",
     "iopub.status.busy": "2023-08-25T06:24:11.885036Z",
     "iopub.status.idle": "2023-08-25T06:24:12.112432Z",
     "shell.execute_reply": "2023-08-25T06:24:12.111338Z"
    },
    "papermill": {
     "duration": 0.235033,
     "end_time": "2023-08-25T06:24:12.114864",
     "exception": false,
     "start_time": "2023-08-25T06:24:11.879831",
     "status": "completed"
    },
    "tags": []
   },
   "outputs": [
    {
     "name": "stdout",
     "output_type": "stream",
     "text": [
      "input : tensor([ 0.0000,  1.1000,  2.2000,  3.3000,  4.4000,  5.5000,  6.6000,  7.7000,\n",
      "         8.8000,  9.9000, 11.0000])\n",
      "\n",
      "Finished!!! creating multiple PyTorch Parameter for each Weights & Bias for our NN. \n",
      "\n",
      "output : tensor([0., 0., 0., 0., 0., 0., 0., 0., 0., 0., 0.], grad_fn=<ReluBackward0>)\n"
     ]
    },
    {
     "data": {
      "image/png": "[encoded data removed]",
      "text/plain": [
       "<Figure size 640x480 with 1 Axes>"
      ]
     },
     "metadata": {},
     "output_type": "display_data"
    }
   ],
   "source": [
    "# Import Modules\n",
    "import torch # to create tensors and store values\n",
    "import torch.nn as nn # to make the weights & bias tensors part of the Neural Network\n",
    "import torch.nn.functional as F # gives us the Activation Functions\n",
    "from torch.optim import SGD # optimizer to fit the Neural Network to the Data\n",
    "\n",
    "# To draw nice looking graphs\n",
    "import matplotlib.pyplot as plt\n",
    "\n",
    "# The Neural Network (BasicNN) inherits from a PyTorch class called Module\n",
    "class BasicNN_train(nn.Module):\n",
    "    def __init__(self): # initialization method for our new class i.e BasicNN\n",
    "        super().__init__() # calls the initialization method of the parent class i.e Module\n",
    "        \n",
    "        ### initialize the weights & biases in our Neural Network ###\n",
    "        # the first weight w00\n",
    "        ### making this weight a Parameter for the Neural Network, gives us the option to optimize it ###\n",
    "        self.w00 = nn.Parameter(data=torch.tensor(1.7), requires_grad=False)\n",
    "        self.b00 = nn.Parameter(data=torch.tensor(-0.85), requires_grad=False)\n",
    "        self.w01 = nn.Parameter(data=torch.tensor(-40.8), requires_grad=False)\n",
    "        \n",
    "        self.w10 = nn.Parameter(data=torch.tensor(12.6), requires_grad=False)\n",
    "        self.b10 = nn.Parameter(data=torch.tensor(0.0), requires_grad=False)\n",
    "        self.w11 = nn.Parameter(data=torch.tensor(2.70), requires_grad=False)\n",
    "        \n",
    "        # before\n",
    "        # self.final_bias = nn.Parameter(data=torch.tensor(-16.0), requires_grad=False)\n",
    "        # now\n",
    "        self.final_bias = nn.Parameter(data=torch.tensor(0.0), requires_grad=True)\n",
    "        \n",
    "        print(\"\\nFinished!!! creating multiple PyTorch Parameter for each Weights & Bias for our NN. \\n\")\n",
    "        \n",
    "    ### Now we need to connect those PyTorch Parameters with Input, Activation Function & Output\n",
    "    ### In other words, we need a way to \"make Forward Pass\" through Neural Network that uses the weights & bias\n",
    "    ### that we have just initialized\n",
    "    \n",
    "    def forward(self, input):\n",
    "        ### Now the first thing we want to do is connect the Input to the Activation Function\n",
    "        # (y = input * weight + b)\n",
    "        input_to_top_relu = input * self.w00 + self.b00 \n",
    "        # Pass the input_to_top_relu to the Activation Function\n",
    "        top_relu_output = F.relu(input_to_top_relu)\n",
    "        # Now scale the top_relu_output by the weight w01\n",
    "        scaled_top_relu_output = top_relu_output * self.w01\n",
    "        \n",
    "        ### Now do the same for the Bottom\n",
    "        # (y = input * weight + b)\n",
    "        input_to_bottom_relu = input * self.w10 + self.b10\n",
    "        # Pass the input_to_bottom_relu to the activation function\n",
    "        bottom_relu_output = F.relu(input_to_bottom_relu)\n",
    "        scaled_bottom_relu_output = bottom_relu_output * self.w11\n",
    "        \n",
    "        ### Now add the top and bottom scaled values to the final bias\n",
    "        input_to_final_relu = scaled_top_relu_output + scaled_bottom_relu_output + self.final_bias\n",
    "        ### Now pass the final dot product \"input_to_final_relu\" to the Activation Function to get the Final Output\n",
    "        # Final Output\n",
    "        output = F.relu(input_to_final_relu)\n",
    "        \n",
    "        return output\n",
    "    \n",
    "input_doses = torch.linspace(start = 0, end = 11, steps = 11)\n",
    "print(f\"input : {input_doses}\")\n",
    "### Now, the idea is to pass these input_doses through our Neural Network \"BasicNN\"\n",
    "model = BasicNN_train()\n",
    "\n",
    "output = model(input_doses)\n",
    "print(f\"output : {output}\")\n",
    "\n",
    "### output.detach() to create a new tensor that only has the values because the \"final_bias\" now has a gradient\n",
    "plt.plot(input_doses, output.detach(), color = \"g\", marker = \"o\")\n",
    "plt.xlabel(\"Doses\")\n",
    "plt.ylabel(\"Effectiveness (Predictions)\")\n",
    "plt.show()"
   ]
  },
  {
   "cell_type": "markdown",
   "id": "f6e938c0",
   "metadata": {
    "papermill": {
     "duration": 0.003999,
     "end_time": "2023-08-25T06:24:12.123065",
     "exception": false,
     "start_time": "2023-08-25T06:24:12.119066",
     "status": "completed"
    },
    "tags": []
   },
   "source": [
    "### Training the Neural Network\n",
    "**Aim:** our current `final_bias = 0.0`, we want to train the Neural Network \"BasicNN_train\" and find the optim value for the `final_bias`.\n",
    "```python\n",
    "optimizer = SGD(params=model.parameters(), lr = 0.1)\n",
    "```\n",
    "* **Note:** The optimizer object **SGD (Stochastic Gradient Descent)**, will optmize every **Parameter** that we set **`requires_grad=True`**."
   ]
  },
  {
   "cell_type": "code",
   "execution_count": 4,
   "id": "e7f3e40b",
   "metadata": {
    "execution": {
     "iopub.execute_input": "2023-08-25T06:24:12.133067Z",
     "iopub.status.busy": "2023-08-25T06:24:12.132680Z",
     "iopub.status.idle": "2023-08-25T06:24:12.391640Z",
     "shell.execute_reply": "2023-08-25T06:24:12.390377Z"
    },
    "papermill": {
     "duration": 0.266846,
     "end_time": "2023-08-25T06:24:12.393987",
     "exception": false,
     "start_time": "2023-08-25T06:24:12.127141",
     "status": "completed"
    },
    "tags": []
   },
   "outputs": [
    {
     "name": "stdout",
     "output_type": "stream",
     "text": [
      "Final bias, before optimization : 0.0\n",
      "Epoch : 0, Final Bias : -3.202000141143799\n",
      "Epoch : 1, Final Bias : -5.7636003494262695\n",
      "Epoch : 2, Final Bias : -7.812880516052246\n",
      "Epoch : 3, Final Bias : -9.45230484008789\n",
      "Epoch : 4, Final Bias : -10.763843536376953\n",
      "Epoch : 5, Final Bias : -11.813075065612793\n",
      "Epoch : 6, Final Bias : -12.652460098266602\n",
      "Epoch : 7, Final Bias : -13.323967933654785\n",
      "Epoch : 8, Final Bias : -13.861174583435059\n",
      "Epoch : 9, Final Bias : -14.290939331054688\n",
      "Epoch : 10, Final Bias : -14.634751319885254\n",
      "Epoch : 11, Final Bias : -14.909801483154297\n",
      "Epoch : 12, Final Bias : -15.129840850830078\n",
      "Epoch : 13, Final Bias : -15.305872917175293\n",
      "Epoch : 14, Final Bias : -15.446698188781738\n",
      "Epoch : 15, Final Bias : -15.559358596801758\n",
      "Epoch : 16, Final Bias : -15.649486541748047\n",
      "Epoch : 17, Final Bias : -15.721589088439941\n",
      "Epoch : 18, Final Bias : -15.779271125793457\n",
      "Epoch : 19, Final Bias : -15.825416564941406\n",
      "Epoch : 20, Final Bias : -15.862333297729492\n",
      "Epoch : 21, Final Bias : -15.891866683959961\n",
      "Epoch : 22, Final Bias : -15.91549301147461\n",
      "Epoch : 23, Final Bias : -15.934394836425781\n",
      "Epoch : 24, Final Bias : -15.949516296386719\n",
      "Epoch : 25, Final Bias : -15.961612701416016\n",
      "Epoch : 26, Final Bias : -15.971290588378906\n",
      "Epoch : 27, Final Bias : -15.979032516479492\n",
      "Epoch : 28, Final Bias : -15.985225677490234\n",
      "Epoch : 29, Final Bias : -15.990180969238281\n",
      "Epoch : 30, Final Bias : -15.994144439697266\n",
      "Epoch : 31, Final Bias : -15.997315406799316\n",
      "Epoch : 32, Final Bias : -15.999852180480957\n",
      "Epoch : 33, Final Bias : -16.001882553100586\n",
      "Epoch: 34\n",
      "The Model has optimally fitted to the training data!!!\n",
      "After Optimization, Final Bias : -16.001882553100586, Final Loss : 6.58966600894928e-05\n"
     ]
    },
    {
     "data": {
      "image/png": "[encoded data removed]",
      "text/plain": [
       "<Figure size 640x480 with 1 Axes>"
      ]
     },
     "metadata": {},
     "output_type": "display_data"
    }
   ],
   "source": [
    "# Training Data\n",
    "inputs = torch.tensor([0., 0.5, 1.])\n",
    "labels = torch.tensor([0., 1., 0.])\n",
    "\n",
    "# The first thing we do is create an optimizer object, that will use SGD to optimize the \"final_bias\".\n",
    "optimizer = SGD(params=model.parameters(), lr = 0.1)\n",
    "print(f\"Final bias, before optimization : {model.final_bias.data}\")\n",
    "\n",
    "### The Loop that will Do Gradient Descent\n",
    "for epoch in range(100):\n",
    "    total_loss = 0\n",
    "    \n",
    "    ### Now the Nested For Loop, runs each training data point through the Model and calculates the \"total_loss\"\n",
    "    for iteration in range(len(inputs)):\n",
    "        inputs_i = inputs[iteration]\n",
    "        labels_i = labels[iteration]\n",
    "        \n",
    "        # Prediction\n",
    "        outputs_i = model(inputs_i)\n",
    "        loss = (labels_i - outputs_i) ** 2\n",
    "        \n",
    "        ### backpropagation (loss.backward)): to calculate the derivative of the loss function wrt the parameters we want to optimize\n",
    "        ### also it accumulates the derivates each time we go through the nested loop for each training data\n",
    "        loss.backward()\n",
    "        \n",
    "        ### as total_loss does not automatically accumulate, so\n",
    "        total_loss += float(loss)\n",
    "        \n",
    "    if (total_loss < 0.0001):\n",
    "        print(f\"Epoch: {epoch}\")\n",
    "        print(\"The Model has optimally fitted to the training data!!!\")\n",
    "        break\n",
    "    \n",
    "    ### if total_loss is not small, then we take a small step towards a better value for \"final_bias\" using optimizer.step()\n",
    "    ### just like loss.backward() has access to the derivatives in the model, similarly, optimizer.step() also has the access and\n",
    "    ### can use them to step in the correct direction\n",
    "    optimizer.step()\n",
    "    \n",
    "    ### Zero out or empty the derivatives that we are storing in the model\n",
    "    optimizer.zero_grad()\n",
    "    \n",
    "    print(f\"Epoch : {epoch}, Final Bias : {model.final_bias.data}\")\n",
    "    \n",
    "print(f\"After Optimization, Final Bias : {model.final_bias.data}, Final Loss : {total_loss}\")\n",
    "\n",
    "### Plot\n",
    "### output.detach() to create a new tensor that only has the values because the \"final_bias\" now has a gradient\n",
    "plt.plot(input_doses, output.detach(), color = \"g\", marker = \"o\")\n",
    "plt.xlabel(\"Doses\")\n",
    "plt.ylabel(\"Effectiveness (Predictions)\")\n",
    "plt.show()"
   ]
  },
  {
   "cell_type": "markdown",
   "id": "18799ff8",
   "metadata": {
    "papermill": {
     "duration": 0.004382,
     "end_time": "2023-08-25T06:24:12.403103",
     "exception": false,
     "start_time": "2023-08-25T06:24:12.398721",
     "status": "completed"
    },
    "tags": []
   },
   "source": [
    "# [StatQuest introduction to coding Neural Networks with PyTorch + Lightning](https://youtu.be/khMzi6xPbuM?si=yqO_23MltiPK9Ztb)"
   ]
  },
  {
   "cell_type": "code",
   "execution_count": 5,
   "id": "82d02ee5",
   "metadata": {
    "execution": {
     "iopub.execute_input": "2023-08-25T06:24:12.414662Z",
     "iopub.status.busy": "2023-08-25T06:24:12.413933Z",
     "iopub.status.idle": "2023-08-25T06:24:43.750154Z",
     "shell.execute_reply": "2023-08-25T06:24:43.749010Z"
    },
    "papermill": {
     "duration": 31.344908,
     "end_time": "2023-08-25T06:24:43.752748",
     "exception": false,
     "start_time": "2023-08-25T06:24:12.407840",
     "status": "completed"
    },
    "tags": []
   },
   "outputs": [
    {
     "name": "stdout",
     "output_type": "stream",
     "text": [
      "Collecting lightning\r\n",
      "  Downloading lightning-2.0.7-py3-none-any.whl (1.9 MB)\r\n",
      "\u001b[2K     \u001b[90m━━━━━━━━━━━━━━━━━━━━━━━━━━━━━━━━━━━━━━━━\u001b[0m \u001b[32m1.9/1.9 MB\u001b[0m \u001b[31m19.4 MB/s\u001b[0m eta \u001b[36m0:00:00\u001b[0m\r\n",
      "\u001b[?25hRequirement already satisfied: Jinja2<5.0 in /opt/conda/lib/python3.10/site-packages (from lightning) (3.1.2)\r\n",
      "Requirement already satisfied: PyYAML<8.0 in /opt/conda/lib/python3.10/site-packages (from lightning) (6.0)\r\n",
      "Requirement already satisfied: arrow<3.0,>=1.2.0 in /opt/conda/lib/python3.10/site-packages (from lightning) (1.2.3)\r\n",
      "Requirement already satisfied: backoff<4.0,>=2.2.1 in /opt/conda/lib/python3.10/site-packages (from lightning) (2.2.1)\r\n",
      "Requirement already satisfied: beautifulsoup4<6.0,>=4.8.0 in /opt/conda/lib/python3.10/site-packages (from lightning) (4.12.2)\r\n",
      "Requirement already satisfied: click<10.0 in /opt/conda/lib/python3.10/site-packages (from lightning) (8.1.3)\r\n",
      "Collecting croniter<1.5.0,>=1.3.0 (from lightning)\r\n",
      "  Downloading croniter-1.4.1-py2.py3-none-any.whl (19 kB)\r\n",
      "Collecting dateutils<2.0 (from lightning)\r\n",
      "  Downloading dateutils-0.6.12-py2.py3-none-any.whl (5.7 kB)\r\n",
      "Collecting deepdiff<8.0,>=5.7.0 (from lightning)\r\n",
      "  Downloading deepdiff-6.3.1-py3-none-any.whl (70 kB)\r\n",
      "\u001b[2K     \u001b[90m━━━━━━━━━━━━━━━━━━━━━━━━━━━━━━━━━━━━━━━━\u001b[0m \u001b[32m70.7/70.7 kB\u001b[0m \u001b[31m6.6 MB/s\u001b[0m eta \u001b[36m0:00:00\u001b[0m\r\n",
      "\u001b[?25hRequirement already satisfied: fastapi<2.0,>=0.92.0 in /opt/conda/lib/python3.10/site-packages (from lightning) (0.98.0)\r\n",
      "Requirement already satisfied: fsspec<2025.0,>=2022.5.0 in /opt/conda/lib/python3.10/site-packages (from lightning) (2023.6.0)\r\n",
      "Collecting inquirer<5.0,>=2.10.0 (from lightning)\r\n",
      "  Downloading inquirer-3.1.3-py3-none-any.whl (18 kB)\r\n",
      "Collecting lightning-cloud>=0.5.37 (from lightning)\r\n",
      "  Downloading lightning_cloud-0.5.37-py3-none-any.whl (596 kB)\r\n",
      "\u001b[2K     \u001b[90m━━━━━━━━━━━━━━━━━━━━━━━━━━━━━━━━━━━━━━\u001b[0m \u001b[32m596.7/596.7 kB\u001b[0m \u001b[31m36.1 MB/s\u001b[0m eta \u001b[36m0:00:00\u001b[0m\r\n",
      "\u001b[?25hRequirement already satisfied: lightning-utilities<2.0,>=0.7.0 in /opt/conda/lib/python3.10/site-packages (from lightning) (0.9.0)\r\n",
      "Requirement already satisfied: numpy<3.0,>=1.17.2 in /opt/conda/lib/python3.10/site-packages (from lightning) (1.23.5)\r\n",
      "Requirement already satisfied: packaging in /opt/conda/lib/python3.10/site-packages (from lightning) (21.3)\r\n",
      "Requirement already satisfied: psutil<7.0 in /opt/conda/lib/python3.10/site-packages (from lightning) (5.9.3)\r\n",
      "Requirement already satisfied: pydantic<2.2.0,>=1.7.4 in /opt/conda/lib/python3.10/site-packages (from lightning) (1.10.9)\r\n",
      "Collecting python-multipart<2.0,>=0.0.5 (from lightning)\r\n",
      "  Downloading python_multipart-0.0.6-py3-none-any.whl (45 kB)\r\n",
      "\u001b[2K     \u001b[90m━━━━━━━━━━━━━━━━━━━━━━━━━━━━━━━━━━━━━━━━\u001b[0m \u001b[32m45.7/45.7 kB\u001b[0m \u001b[31m4.0 MB/s\u001b[0m eta \u001b[36m0:00:00\u001b[0m\r\n",
      "\u001b[?25hRequirement already satisfied: requests<4.0 in /opt/conda/lib/python3.10/site-packages (from lightning) (2.31.0)\r\n",
      "Requirement already satisfied: rich<15.0,>=12.3.0 in /opt/conda/lib/python3.10/site-packages (from lightning) (13.4.2)\r\n",
      "Requirement already satisfied: starlette in /opt/conda/lib/python3.10/site-packages (from lightning) (0.27.0)\r\n",
      "Collecting starsessions<2.0,>=1.2.1 (from lightning)\r\n",
      "  Downloading starsessions-1.3.0-py3-none-any.whl (10 kB)\r\n",
      "Requirement already satisfied: torch<4.0,>=1.11.0 in /opt/conda/lib/python3.10/site-packages (from lightning) (2.0.0+cpu)\r\n",
      "Requirement already satisfied: torchmetrics<2.0,>=0.7.0 in /opt/conda/lib/python3.10/site-packages (from lightning) (1.0.0)\r\n",
      "Requirement already satisfied: tqdm<6.0,>=4.57.0 in /opt/conda/lib/python3.10/site-packages (from lightning) (4.65.0)\r\n",
      "Requirement already satisfied: traitlets<7.0,>=5.3.0 in /opt/conda/lib/python3.10/site-packages (from lightning) (5.9.0)\r\n",
      "Requirement already satisfied: typing-extensions<6.0,>=4.0.0 in /opt/conda/lib/python3.10/site-packages (from lightning) (4.6.3)\r\n",
      "Requirement already satisfied: urllib3<4.0 in /opt/conda/lib/python3.10/site-packages (from lightning) (1.26.15)\r\n",
      "Requirement already satisfied: uvicorn<2.0 in /opt/conda/lib/python3.10/site-packages (from lightning) (0.22.0)\r\n",
      "Requirement already satisfied: websocket-client<3.0 in /opt/conda/lib/python3.10/site-packages (from lightning) (1.6.0)\r\n",
      "Requirement already satisfied: websockets<13.0 in /opt/conda/lib/python3.10/site-packages (from lightning) (11.0.3)\r\n",
      "Requirement already satisfied: pytorch-lightning in /opt/conda/lib/python3.10/site-packages (from lightning) (2.0.4)\r\n",
      "Requirement already satisfied: python-dateutil>=2.7.0 in /opt/conda/lib/python3.10/site-packages (from arrow<3.0,>=1.2.0->lightning) (2.8.2)\r\n",
      "Requirement already satisfied: soupsieve>1.2 in /opt/conda/lib/python3.10/site-packages (from beautifulsoup4<6.0,>=4.8.0->lightning) (2.3.2.post1)\r\n",
      "Requirement already satisfied: pytz in /opt/conda/lib/python3.10/site-packages (from dateutils<2.0->lightning) (2023.3)\r\n",
      "Collecting ordered-set<4.2.0,>=4.0.2 (from deepdiff<8.0,>=5.7.0->lightning)\r\n",
      "  Downloading ordered_set-4.1.0-py3-none-any.whl (7.6 kB)\r\n",
      "Requirement already satisfied: aiohttp!=4.0.0a0,!=4.0.0a1 in /opt/conda/lib/python3.10/site-packages (from fsspec<2025.0,>=2022.5.0->lightning) (3.8.4)\r\n",
      "Requirement already satisfied: blessed>=1.19.0 in /opt/conda/lib/python3.10/site-packages (from inquirer<5.0,>=2.10.0->lightning) (1.20.0)\r\n",
      "Collecting python-editor>=1.0.4 (from inquirer<5.0,>=2.10.0->lightning)\r\n",
      "  Downloading python_editor-1.0.4-py3-none-any.whl (4.9 kB)\r\n",
      "Collecting readchar>=3.0.6 (from inquirer<5.0,>=2.10.0->lightning)\r\n",
      "  Downloading readchar-4.0.5-py3-none-any.whl (8.5 kB)\r\n",
      "Requirement already satisfied: MarkupSafe>=2.0 in /opt/conda/lib/python3.10/site-packages (from Jinja2<5.0->lightning) (2.1.3)\r\n",
      "Requirement already satisfied: pyjwt in /opt/conda/lib/python3.10/site-packages (from lightning-cloud>=0.5.37->lightning) (2.7.0)\r\n",
      "Requirement already satisfied: six in /opt/conda/lib/python3.10/site-packages (from lightning-cloud>=0.5.37->lightning) (1.16.0)\r\n",
      "Requirement already satisfied: pyparsing!=3.0.5,>=2.0.2 in /opt/conda/lib/python3.10/site-packages (from packaging->lightning) (3.0.9)\r\n",
      "Requirement already satisfied: charset-normalizer<4,>=2 in /opt/conda/lib/python3.10/site-packages (from requests<4.0->lightning) (3.1.0)\r\n",
      "Requirement already satisfied: idna<4,>=2.5 in /opt/conda/lib/python3.10/site-packages (from requests<4.0->lightning) (3.4)\r\n",
      "Requirement already satisfied: certifi>=2017.4.17 in /opt/conda/lib/python3.10/site-packages (from requests<4.0->lightning) (2023.5.7)\r\n",
      "Requirement already satisfied: markdown-it-py>=2.2.0 in /opt/conda/lib/python3.10/site-packages (from rich<15.0,>=12.3.0->lightning) (2.2.0)\r\n",
      "Requirement already satisfied: pygments<3.0.0,>=2.13.0 in /opt/conda/lib/python3.10/site-packages (from rich<15.0,>=12.3.0->lightning) (2.15.1)\r\n",
      "Requirement already satisfied: anyio<5,>=3.4.0 in /opt/conda/lib/python3.10/site-packages (from starlette->lightning) (3.7.0)\r\n",
      "Requirement already satisfied: itsdangerous<3.0.0,>=2.0.1 in /opt/conda/lib/python3.10/site-packages (from starsessions<2.0,>=1.2.1->lightning) (2.1.2)\r\n",
      "Requirement already satisfied: filelock in /opt/conda/lib/python3.10/site-packages (from torch<4.0,>=1.11.0->lightning) (3.12.2)\r\n",
      "Requirement already satisfied: sympy in /opt/conda/lib/python3.10/site-packages (from torch<4.0,>=1.11.0->lightning) (1.12)\r\n",
      "Requirement already satisfied: networkx in /opt/conda/lib/python3.10/site-packages (from torch<4.0,>=1.11.0->lightning) (3.1)\r\n",
      "Requirement already satisfied: h11>=0.8 in /opt/conda/lib/python3.10/site-packages (from uvicorn<2.0->lightning) (0.14.0)\r\n",
      "Requirement already satisfied: attrs>=17.3.0 in /opt/conda/lib/python3.10/site-packages (from aiohttp!=4.0.0a0,!=4.0.0a1->fsspec<2025.0,>=2022.5.0->lightning) (23.1.0)\r\n",
      "Requirement already satisfied: multidict<7.0,>=4.5 in /opt/conda/lib/python3.10/site-packages (from aiohttp!=4.0.0a0,!=4.0.0a1->fsspec<2025.0,>=2022.5.0->lightning) (6.0.4)\r\n",
      "Requirement already satisfied: async-timeout<5.0,>=4.0.0a3 in /opt/conda/lib/python3.10/site-packages (from aiohttp!=4.0.0a0,!=4.0.0a1->fsspec<2025.0,>=2022.5.0->lightning) (4.0.2)\r\n",
      "Requirement already satisfied: yarl<2.0,>=1.0 in /opt/conda/lib/python3.10/site-packages (from aiohttp!=4.0.0a0,!=4.0.0a1->fsspec<2025.0,>=2022.5.0->lightning) (1.9.2)\r\n",
      "Requirement already satisfied: frozenlist>=1.1.1 in /opt/conda/lib/python3.10/site-packages (from aiohttp!=4.0.0a0,!=4.0.0a1->fsspec<2025.0,>=2022.5.0->lightning) (1.3.3)\r\n",
      "Requirement already satisfied: aiosignal>=1.1.2 in /opt/conda/lib/python3.10/site-packages (from aiohttp!=4.0.0a0,!=4.0.0a1->fsspec<2025.0,>=2022.5.0->lightning) (1.3.1)\r\n",
      "Requirement already satisfied: sniffio>=1.1 in /opt/conda/lib/python3.10/site-packages (from anyio<5,>=3.4.0->starlette->lightning) (1.3.0)\r\n",
      "Requirement already satisfied: exceptiongroup in /opt/conda/lib/python3.10/site-packages (from anyio<5,>=3.4.0->starlette->lightning) (1.1.1)\r\n",
      "Requirement already satisfied: wcwidth>=0.1.4 in /opt/conda/lib/python3.10/site-packages (from blessed>=1.19.0->inquirer<5.0,>=2.10.0->lightning) (0.2.6)\r\n",
      "Requirement already satisfied: mdurl~=0.1 in /opt/conda/lib/python3.10/site-packages (from markdown-it-py>=2.2.0->rich<15.0,>=12.3.0->lightning) (0.1.2)\r\n",
      "Requirement already satisfied: setuptools>=41.0 in /opt/conda/lib/python3.10/site-packages (from readchar>=3.0.6->inquirer<5.0,>=2.10.0->lightning) (59.8.0)\r\n",
      "Requirement already satisfied: mpmath>=0.19 in /opt/conda/lib/python3.10/site-packages (from sympy->torch<4.0,>=1.11.0->lightning) (1.3.0)\r\n",
      "Installing collected packages: python-editor, readchar, python-multipart, ordered-set, inquirer, deepdiff, dateutils, croniter, starsessions, lightning-cloud, lightning\r\n",
      "Successfully installed croniter-1.4.1 dateutils-0.6.12 deepdiff-6.3.1 inquirer-3.1.3 lightning-2.0.7 lightning-cloud-0.5.37 ordered-set-4.1.0 python-editor-1.0.4 python-multipart-0.0.6 readchar-4.0.5 starsessions-1.3.0\r\n"
     ]
    },
    {
     "name": "stderr",
     "output_type": "stream",
     "text": [
      "/opt/conda/lib/python3.10/site-packages/scipy/__init__.py:146: UserWarning: A NumPy version >=1.16.5 and <1.23.0 is required for this version of SciPy (detected version 1.23.5\n",
      "  warnings.warn(f\"A NumPy version >={np_minversion} and <{np_maxversion}\"\n",
      "/opt/conda/lib/python3.10/site-packages/tensorflow_io/python/ops/__init__.py:98: UserWarning: unable to load libtensorflow_io_plugins.so: unable to open file: libtensorflow_io_plugins.so, from paths: ['/opt/conda/lib/python3.10/site-packages/tensorflow_io/python/ops/libtensorflow_io_plugins.so']\n",
      "caused by: ['/opt/conda/lib/python3.10/site-packages/tensorflow_io/python/ops/libtensorflow_io_plugins.so: undefined symbol: _ZN3tsl6StatusC1EN10tensorflow5error4CodeESt17basic_string_viewIcSt11char_traitsIcEENS_14SourceLocationE']\n",
      "  warnings.warn(f\"unable to load libtensorflow_io_plugins.so: {e}\")\n",
      "/opt/conda/lib/python3.10/site-packages/tensorflow_io/python/ops/__init__.py:104: UserWarning: file system plugins are not loaded: unable to open file: libtensorflow_io.so, from paths: ['/opt/conda/lib/python3.10/site-packages/tensorflow_io/python/ops/libtensorflow_io.so']\n",
      "caused by: ['/opt/conda/lib/python3.10/site-packages/tensorflow_io/python/ops/libtensorflow_io.so: undefined symbol: _ZTVN10tensorflow13GcsFileSystemE']\n",
      "  warnings.warn(f\"file system plugins are not loaded: {e}\")\n"
     ]
    }
   ],
   "source": [
    "# Import Modules\n",
    "import torch\n",
    "import torch.nn as nn\n",
    "import torch.nn.functional as F\n",
    "from torch.optim import SGD\n",
    "\n",
    "# PyTorch Lightning Module\n",
    "! pip3 install lightning\n",
    "import lightning as L\n",
    "from torch.utils.data import TensorDataset,DataLoader\n",
    "\n",
    "# Plotting Module\n",
    "import matplotlib.pyplot as plt"
   ]
  },
  {
   "cell_type": "code",
   "execution_count": null,
   "id": "e1effc63",
   "metadata": {
    "papermill": {
     "duration": 0.00667,
     "end_time": "2023-08-25T06:24:43.766471",
     "exception": false,
     "start_time": "2023-08-25T06:24:43.759801",
     "status": "completed"
    },
    "tags": []
   },
   "outputs": [],
   "source": []
  }
 ],
 "metadata": {
  "kernelspec": {
   "display_name": "Python 3",
   "language": "python",
   "name": "python3"
  },
  "language_info": {
   "codemirror_mode": {
    "name": "ipython",
    "version": 3
   },
   "file_extension": ".py",
   "mimetype": "text/x-python",
   "name": "python",
   "nbconvert_exporter": "python",
   "pygments_lexer": "ipython3",
   "version": "3.10.12"
  },
  "papermill": {
   "default_parameters": {},
   "duration": 49.351349,
   "end_time": "2023-08-25T06:24:46.470176",
   "environment_variables": {},
   "exception": null,
   "input_path": "__notebook__.ipynb",
   "output_path": "__notebook__.ipynb",
   "parameters": {},
   "start_time": "2023-08-25T06:23:57.118827",
   "version": "2.4.0"
  }
 },
 "nbformat": 4,
 "nbformat_minor": 5
}
